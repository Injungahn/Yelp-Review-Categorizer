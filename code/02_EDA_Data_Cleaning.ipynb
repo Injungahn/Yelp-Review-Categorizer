{
 "cells": [
  {
   "cell_type": "code",
   "execution_count": 1,
   "id": "b32decf6-e237-44b0-a148-393a0244ac00",
   "metadata": {},
   "outputs": [],
   "source": [
    "# Imports\n",
    "import numpy as np\n",
    "import pandas as pd\n",
    "import matplotlib.pyplot as plt\n",
    "import seaborn as sns\n",
    "import spacy\n",
    "\n",
    "from spacy import displacy\n",
    "from nltk.stem import WordNetLemmatizer\n"
   ]
  },
  {
   "cell_type": "code",
   "execution_count": 2,
   "id": "91260d8b-5cf4-4ce4-bd9b-cde076eade53",
   "metadata": {},
   "outputs": [],
   "source": [
    "df = pd.read_csv('../data/San_Francisco_restaurant_reviews.csv')"
   ]
  },
  {
   "cell_type": "code",
   "execution_count": 3,
   "id": "8603e01e-5aac-4883-bb9b-ae6215163462",
   "metadata": {},
   "outputs": [
    {
     "data": {
      "text/plain": [
       "(50000, 5)"
      ]
     },
     "execution_count": 3,
     "metadata": {},
     "output_type": "execute_result"
    }
   ],
   "source": [
    "df.shape"
   ]
  },
  {
   "cell_type": "code",
   "execution_count": 4,
   "id": "0d6b145d-d323-4dbe-9289-5c1d85648775",
   "metadata": {},
   "outputs": [
    {
     "data": {
      "text/html": [
       "<div>\n",
       "<style scoped>\n",
       "    .dataframe tbody tr th:only-of-type {\n",
       "        vertical-align: middle;\n",
       "    }\n",
       "\n",
       "    .dataframe tbody tr th {\n",
       "        vertical-align: top;\n",
       "    }\n",
       "\n",
       "    .dataframe thead th {\n",
       "        text-align: right;\n",
       "    }\n",
       "</style>\n",
       "<table border=\"1\" class=\"dataframe\">\n",
       "  <thead>\n",
       "    <tr style=\"text-align: right;\">\n",
       "      <th></th>\n",
       "      <th>Unnamed: 0</th>\n",
       "      <th>restaurant_name</th>\n",
       "      <th>restaurant_rating</th>\n",
       "      <th>customer_rating</th>\n",
       "      <th>review_text</th>\n",
       "    </tr>\n",
       "  </thead>\n",
       "  <tbody>\n",
       "    <tr>\n",
       "      <th>0</th>\n",
       "      <td>0</td>\n",
       "      <td>Brenda's French Soul Food</td>\n",
       "      <td>4.0</td>\n",
       "      <td>5</td>\n",
       "      <td>Absolutely amazing. I&amp;#39;ve dined here at lea...</td>\n",
       "    </tr>\n",
       "    <tr>\n",
       "      <th>1</th>\n",
       "      <td>1</td>\n",
       "      <td>Brenda's French Soul Food</td>\n",
       "      <td>4.0</td>\n",
       "      <td>5</td>\n",
       "      <td>So good we went twice in one week! After a rec...</td>\n",
       "    </tr>\n",
       "    <tr>\n",
       "      <th>2</th>\n",
       "      <td>2</td>\n",
       "      <td>Brenda's French Soul Food</td>\n",
       "      <td>4.0</td>\n",
       "      <td>2</td>\n",
       "      <td>Hadn&amp;#39;t been here in years because the neig...</td>\n",
       "    </tr>\n",
       "    <tr>\n",
       "      <th>3</th>\n",
       "      <td>3</td>\n",
       "      <td>Brenda's French Soul Food</td>\n",
       "      <td>4.0</td>\n",
       "      <td>3</td>\n",
       "      <td>I love the other Brenda&amp;#39;s in SF but this o...</td>\n",
       "    </tr>\n",
       "    <tr>\n",
       "      <th>4</th>\n",
       "      <td>4</td>\n",
       "      <td>Brenda's French Soul Food</td>\n",
       "      <td>4.0</td>\n",
       "      <td>5</td>\n",
       "      <td>Another repeat visit and no disappointment fro...</td>\n",
       "    </tr>\n",
       "  </tbody>\n",
       "</table>\n",
       "</div>"
      ],
      "text/plain": [
       "   Unnamed: 0            restaurant_name  restaurant_rating  customer_rating  \\\n",
       "0           0  Brenda's French Soul Food                4.0                5   \n",
       "1           1  Brenda's French Soul Food                4.0                5   \n",
       "2           2  Brenda's French Soul Food                4.0                2   \n",
       "3           3  Brenda's French Soul Food                4.0                3   \n",
       "4           4  Brenda's French Soul Food                4.0                5   \n",
       "\n",
       "                                         review_text  \n",
       "0  Absolutely amazing. I&#39;ve dined here at lea...  \n",
       "1  So good we went twice in one week! After a rec...  \n",
       "2  Hadn&#39;t been here in years because the neig...  \n",
       "3  I love the other Brenda&#39;s in SF but this o...  \n",
       "4  Another repeat visit and no disappointment fro...  "
      ]
     },
     "execution_count": 4,
     "metadata": {},
     "output_type": "execute_result"
    }
   ],
   "source": [
    "df.head()"
   ]
  },
  {
   "cell_type": "code",
   "execution_count": 5,
   "id": "b8d20735-8acb-41d7-b951-402b94e248cf",
   "metadata": {},
   "outputs": [
    {
     "data": {
      "text/html": [
       "<div>\n",
       "<style scoped>\n",
       "    .dataframe tbody tr th:only-of-type {\n",
       "        vertical-align: middle;\n",
       "    }\n",
       "\n",
       "    .dataframe tbody tr th {\n",
       "        vertical-align: top;\n",
       "    }\n",
       "\n",
       "    .dataframe thead th {\n",
       "        text-align: right;\n",
       "    }\n",
       "</style>\n",
       "<table border=\"1\" class=\"dataframe\">\n",
       "  <thead>\n",
       "    <tr style=\"text-align: right;\">\n",
       "      <th></th>\n",
       "      <th>review_id</th>\n",
       "      <th>restaurant_name</th>\n",
       "      <th>restaurant_rating</th>\n",
       "      <th>customer_rating</th>\n",
       "      <th>review_text</th>\n",
       "    </tr>\n",
       "  </thead>\n",
       "  <tbody>\n",
       "    <tr>\n",
       "      <th>0</th>\n",
       "      <td>0</td>\n",
       "      <td>Brenda's French Soul Food</td>\n",
       "      <td>4.0</td>\n",
       "      <td>5</td>\n",
       "      <td>Absolutely amazing. I&amp;#39;ve dined here at lea...</td>\n",
       "    </tr>\n",
       "    <tr>\n",
       "      <th>1</th>\n",
       "      <td>1</td>\n",
       "      <td>Brenda's French Soul Food</td>\n",
       "      <td>4.0</td>\n",
       "      <td>5</td>\n",
       "      <td>So good we went twice in one week! After a rec...</td>\n",
       "    </tr>\n",
       "    <tr>\n",
       "      <th>2</th>\n",
       "      <td>2</td>\n",
       "      <td>Brenda's French Soul Food</td>\n",
       "      <td>4.0</td>\n",
       "      <td>2</td>\n",
       "      <td>Hadn&amp;#39;t been here in years because the neig...</td>\n",
       "    </tr>\n",
       "    <tr>\n",
       "      <th>3</th>\n",
       "      <td>3</td>\n",
       "      <td>Brenda's French Soul Food</td>\n",
       "      <td>4.0</td>\n",
       "      <td>3</td>\n",
       "      <td>I love the other Brenda&amp;#39;s in SF but this o...</td>\n",
       "    </tr>\n",
       "    <tr>\n",
       "      <th>4</th>\n",
       "      <td>4</td>\n",
       "      <td>Brenda's French Soul Food</td>\n",
       "      <td>4.0</td>\n",
       "      <td>5</td>\n",
       "      <td>Another repeat visit and no disappointment fro...</td>\n",
       "    </tr>\n",
       "  </tbody>\n",
       "</table>\n",
       "</div>"
      ],
      "text/plain": [
       "   review_id            restaurant_name  restaurant_rating  customer_rating  \\\n",
       "0          0  Brenda's French Soul Food                4.0                5   \n",
       "1          1  Brenda's French Soul Food                4.0                5   \n",
       "2          2  Brenda's French Soul Food                4.0                2   \n",
       "3          3  Brenda's French Soul Food                4.0                3   \n",
       "4          4  Brenda's French Soul Food                4.0                5   \n",
       "\n",
       "                                         review_text  \n",
       "0  Absolutely amazing. I&#39;ve dined here at lea...  \n",
       "1  So good we went twice in one week! After a rec...  \n",
       "2  Hadn&#39;t been here in years because the neig...  \n",
       "3  I love the other Brenda&#39;s in SF but this o...  \n",
       "4  Another repeat visit and no disappointment fro...  "
      ]
     },
     "execution_count": 5,
     "metadata": {},
     "output_type": "execute_result"
    }
   ],
   "source": [
    "# Rename column 'Unnamed: 0' to Review Id\n",
    "df.rename(columns={'Unnamed: 0':'review_id'}, inplace = True)\n",
    "df.head()"
   ]
  },
  {
   "cell_type": "code",
   "execution_count": 6,
   "id": "22e8223d-e78f-4aa4-96d4-7833e84aac99",
   "metadata": {},
   "outputs": [
    {
     "name": "stdout",
     "output_type": "stream",
     "text": [
      "Absolutely amazing. I&#39;ve dined here at least 6 times since moving to the Bay Area in February of 2022. Every experience has been great and those I recommended to eat here all let me know how good the food was as well.\n",
      "\n",
      "So good we went twice in one week! After a recommendation from the barista by our hotel we walked over to Brenda&#39;s for brunch on a Saturday. <br><br>There was a wait but it moved quickly. I got the Florentine Benedict and my friend got the Corn Succotash &amp; White Cheddar Omelette (not pictured). Everything was great - savory, a little spice, comforting!<br><br> Friendly and quick service. I ended up going back to try the dinner menu a few nights later - the shrimp and grits was everything I wanted. The beignets are a must try - SO big and fluffy and filled to perfection.\n",
      "\n",
      "Hadn&#39;t been here in years because the neighborhood has become increasingly rough and filthy and waiting for a table first thing in the morning under such circumstances isn&#39;t a good way to start the day.<br><br>But snagged a reservation and finally returned today.<br><br>Food. was good but service was decidedly uneven. Some servers were curt &amp; incompetent (gave us wrong orders, had no patience and hurried us up), others were attentive.  <br><br>Was very hesitant about leaving a tip.\n",
      "\n",
      "I love the other Brenda&#39;s in SF but this one did not live up to the hype. If i were to go back i&#39;d only get the crawfish beignets and the gravy + biscuits.<br><br>We got:<br>- Beignet flight (5/5): highly recommend the apple + crawfish ones if you order singles!<br>- pork belly grits (3/5): There&#39;s not enough acidity to cut down the fat of the pork belly so it&#39;s really hard to eat more than half<br>- gravy + biscuits (5/5): gravy was incredible and the biscuits were super flaky<br>- The coffee was so SO burnt :( There was a lot of grind sediment at the bottom of my cup which made it a really unpleasant morning experience.<br><br>Service: great! the staff were all very nice :) <br><br>Ambiance: during the brunch rush you definitely have to yell a bit to hear each other over the noise\n",
      "\n",
      "Another repeat visit and no disappointment from us. Great place for breakfast or brunch - and you won&#39;t need to eat again for awhile. The restaurant is close to the Tenderloin so be aware of your surroundings.<br><br>We enjoyed the Succotash Omelet (at least my wife enjoyed it), the Pulled Pork Benedict and the Hangtown Fry. Portions are large and pricing is fair. I wish we could have managed a Beignet Flight!<br><br>Definitely a spot to seek out. It can be crowed at times so be patient. Well worth any wait.\n",
      "\n"
     ]
    }
   ],
   "source": [
    "for row in df['review_text'][:5]:\n",
    "    print(f'{row}\\n')"
   ]
  },
  {
   "cell_type": "markdown",
   "id": "72bc4426-02da-4395-8ae6-e20a0e424c68",
   "metadata": {},
   "source": [
    "- Need to change the string of characters ' & #39; ' into a \" ' \"\n",
    "- Remove the break characters"
   ]
  },
  {
   "cell_type": "code",
   "execution_count": 36,
   "id": "10d1d21d-8ff2-4920-ad7a-0ef9e437a126",
   "metadata": {},
   "outputs": [],
   "source": [
    "def remove_html_characters(df):\n",
    "    #removing break characters and html character references\n",
    "    df['review_text'] = df['review_text'].str.replace('&#39;', \"'\")\n",
    "    df['review_text'] = df['review_text'].str.replace('&#34;', '\"')\n",
    "    df['review_text'] = df['review_text'].str.replace('<br>', '')\n",
    "    df['review_text'] = df['review_text'].str.replace('&amp;', '&')\n",
    "    df['review_text'] = df['review_text'].str.replace(r'\\<a.*a\\>', '', regex=True)\n",
    "    df['review_text'] = df['review_text'].str.replace('\\xa0', '')\n"
   ]
  },
  {
   "cell_type": "code",
   "execution_count": 37,
   "id": "b1138fac-93f8-44b7-95d4-faa3ff61fbf6",
   "metadata": {},
   "outputs": [],
   "source": [
    "remove_html_characters(df)"
   ]
  },
  {
   "cell_type": "code",
   "execution_count": 38,
   "id": "fa02b8d5-f8f6-42c2-94a9-2b203792282c",
   "metadata": {},
   "outputs": [
    {
     "name": "stdout",
     "output_type": "stream",
     "text": [
      "Absolutely amazing. I've dined here at least 6 times since moving to the Bay Area in February of 2022. Every experience has been great and those I recommended to eat here all let me know how good the food was as well.\n",
      "\n",
      "So good we went twice in one week! After a recommendation from the barista by our hotel we walked over to Brenda's for brunch on a Saturday. There was a wait but it moved quickly. I got the Florentine Benedict and my friend got the Corn Succotash & White Cheddar Omelette (not pictured). Everything was great - savory, a little spice, comforting! Friendly and quick service. I ended up going back to try the dinner menu a few nights later - the shrimp and grits was everything I wanted. The beignets are a must try - SO big and fluffy and filled to perfection.\n",
      "\n",
      "Hadn't been here in years because the neighborhood has become increasingly rough and filthy and waiting for a table first thing in the morning under such circumstances isn't a good way to start the day.But snagged a reservation and finally returned today.Food. was good but service was decidedly uneven. Some servers were curt & incompetent (gave us wrong orders, had no patience and hurried us up), others were attentive. Was very hesitant about leaving a tip.\n",
      "\n",
      "I love the other Brenda's in SF but this one did not live up to the hype. If i were to go back i'd only get the crawfish beignets and the gravy + biscuits.We got:- Beignet flight (5/5): highly recommend the apple + crawfish ones if you order singles!- pork belly grits (3/5): There's not enough acidity to cut down the fat of the pork belly so it's really hard to eat more than half- gravy + biscuits (5/5): gravy was incredible and the biscuits were super flaky- The coffee was so SO burnt :( There was a lot of grind sediment at the bottom of my cup which made it a really unpleasant morning experience.Service: great! the staff were all very nice :) Ambiance: during the brunch rush you definitely have to yell a bit to hear each other over the noise\n",
      "\n",
      "Another repeat visit and no disappointment from us. Great place for breakfast or brunch - and you won't need to eat again for awhile. The restaurant is close to the Tenderloin so be aware of your surroundings.We enjoyed the Succotash Omelet (at least my wife enjoyed it), the Pulled Pork Benedict and the Hangtown Fry. Portions are large and pricing is fair. I wish we could have managed a Beignet Flight!Definitely a spot to seek out. It can be crowed at times so be patient. Well worth any wait.\n",
      "\n"
     ]
    }
   ],
   "source": [
    "for row in df['review_text'][:5]:\n",
    "    print(f'{row}\\n')"
   ]
  },
  {
   "cell_type": "code",
   "execution_count": 39,
   "id": "3461f62c-af31-4e73-9c78-62aeb9c9828b",
   "metadata": {},
   "outputs": [],
   "source": [
    "#Creating column for the character length of the review\n",
    "df['review_text_length'] = df['review_text'].apply(lambda x: len(x))"
   ]
  },
  {
   "cell_type": "code",
   "execution_count": 40,
   "id": "988ddfe0-a5a3-48a3-bc3d-3fdea39f242f",
   "metadata": {},
   "outputs": [
    {
     "data": {
      "text/html": [
       "<div>\n",
       "<style scoped>\n",
       "    .dataframe tbody tr th:only-of-type {\n",
       "        vertical-align: middle;\n",
       "    }\n",
       "\n",
       "    .dataframe tbody tr th {\n",
       "        vertical-align: top;\n",
       "    }\n",
       "\n",
       "    .dataframe thead th {\n",
       "        text-align: right;\n",
       "    }\n",
       "</style>\n",
       "<table border=\"1\" class=\"dataframe\">\n",
       "  <thead>\n",
       "    <tr style=\"text-align: right;\">\n",
       "      <th></th>\n",
       "      <th>review_id</th>\n",
       "      <th>restaurant_name</th>\n",
       "      <th>restaurant_rating</th>\n",
       "      <th>customer_rating</th>\n",
       "      <th>review_text</th>\n",
       "      <th>review_text_length</th>\n",
       "    </tr>\n",
       "  </thead>\n",
       "  <tbody>\n",
       "    <tr>\n",
       "      <th>0</th>\n",
       "      <td>0</td>\n",
       "      <td>Brenda's French Soul Food</td>\n",
       "      <td>4.0</td>\n",
       "      <td>5</td>\n",
       "      <td>Absolutely amazing. I've dined here at least 6...</td>\n",
       "      <td>217</td>\n",
       "    </tr>\n",
       "    <tr>\n",
       "      <th>1</th>\n",
       "      <td>1</td>\n",
       "      <td>Brenda's French Soul Food</td>\n",
       "      <td>4.0</td>\n",
       "      <td>5</td>\n",
       "      <td>So good we went twice in one week! After a rec...</td>\n",
       "      <td>560</td>\n",
       "    </tr>\n",
       "    <tr>\n",
       "      <th>2</th>\n",
       "      <td>2</td>\n",
       "      <td>Brenda's French Soul Food</td>\n",
       "      <td>4.0</td>\n",
       "      <td>2</td>\n",
       "      <td>Hadn't been here in years because the neighbor...</td>\n",
       "      <td>461</td>\n",
       "    </tr>\n",
       "    <tr>\n",
       "      <th>3</th>\n",
       "      <td>3</td>\n",
       "      <td>Brenda's French Soul Food</td>\n",
       "      <td>4.0</td>\n",
       "      <td>3</td>\n",
       "      <td>I love the other Brenda's in SF but this one d...</td>\n",
       "      <td>753</td>\n",
       "    </tr>\n",
       "    <tr>\n",
       "      <th>4</th>\n",
       "      <td>4</td>\n",
       "      <td>Brenda's French Soul Food</td>\n",
       "      <td>4.0</td>\n",
       "      <td>5</td>\n",
       "      <td>Another repeat visit and no disappointment fro...</td>\n",
       "      <td>497</td>\n",
       "    </tr>\n",
       "  </tbody>\n",
       "</table>\n",
       "</div>"
      ],
      "text/plain": [
       "   review_id            restaurant_name  restaurant_rating  customer_rating  \\\n",
       "0          0  Brenda's French Soul Food                4.0                5   \n",
       "1          1  Brenda's French Soul Food                4.0                5   \n",
       "2          2  Brenda's French Soul Food                4.0                2   \n",
       "3          3  Brenda's French Soul Food                4.0                3   \n",
       "4          4  Brenda's French Soul Food                4.0                5   \n",
       "\n",
       "                                         review_text  review_text_length  \n",
       "0  Absolutely amazing. I've dined here at least 6...                 217  \n",
       "1  So good we went twice in one week! After a rec...                 560  \n",
       "2  Hadn't been here in years because the neighbor...                 461  \n",
       "3  I love the other Brenda's in SF but this one d...                 753  \n",
       "4  Another repeat visit and no disappointment fro...                 497  "
      ]
     },
     "execution_count": 40,
     "metadata": {},
     "output_type": "execute_result"
    }
   ],
   "source": [
    "df.head()"
   ]
  },
  {
   "cell_type": "code",
   "execution_count": 41,
   "id": "0a5a8a25-1513-4146-b0d3-6a78b88c34f1",
   "metadata": {},
   "outputs": [
    {
     "data": {
      "text/html": [
       "<div>\n",
       "<style scoped>\n",
       "    .dataframe tbody tr th:only-of-type {\n",
       "        vertical-align: middle;\n",
       "    }\n",
       "\n",
       "    .dataframe tbody tr th {\n",
       "        vertical-align: top;\n",
       "    }\n",
       "\n",
       "    .dataframe thead th {\n",
       "        text-align: right;\n",
       "    }\n",
       "</style>\n",
       "<table border=\"1\" class=\"dataframe\">\n",
       "  <thead>\n",
       "    <tr style=\"text-align: right;\">\n",
       "      <th></th>\n",
       "      <th>review_id</th>\n",
       "      <th>restaurant_rating</th>\n",
       "      <th>customer_rating</th>\n",
       "      <th>review_text_length</th>\n",
       "    </tr>\n",
       "  </thead>\n",
       "  <tbody>\n",
       "    <tr>\n",
       "      <th>count</th>\n",
       "      <td>50000.000000</td>\n",
       "      <td>50000.000000</td>\n",
       "      <td>50000.000000</td>\n",
       "      <td>50000.000000</td>\n",
       "    </tr>\n",
       "    <tr>\n",
       "      <th>mean</th>\n",
       "      <td>24999.500000</td>\n",
       "      <td>4.250000</td>\n",
       "      <td>4.319740</td>\n",
       "      <td>677.262140</td>\n",
       "    </tr>\n",
       "    <tr>\n",
       "      <th>std</th>\n",
       "      <td>14433.901067</td>\n",
       "      <td>0.287231</td>\n",
       "      <td>1.018669</td>\n",
       "      <td>596.437954</td>\n",
       "    </tr>\n",
       "    <tr>\n",
       "      <th>min</th>\n",
       "      <td>0.000000</td>\n",
       "      <td>4.000000</td>\n",
       "      <td>1.000000</td>\n",
       "      <td>17.000000</td>\n",
       "    </tr>\n",
       "    <tr>\n",
       "      <th>25%</th>\n",
       "      <td>12499.750000</td>\n",
       "      <td>4.000000</td>\n",
       "      <td>4.000000</td>\n",
       "      <td>262.000000</td>\n",
       "    </tr>\n",
       "    <tr>\n",
       "      <th>50%</th>\n",
       "      <td>24999.500000</td>\n",
       "      <td>4.000000</td>\n",
       "      <td>5.000000</td>\n",
       "      <td>507.000000</td>\n",
       "    </tr>\n",
       "    <tr>\n",
       "      <th>75%</th>\n",
       "      <td>37499.250000</td>\n",
       "      <td>4.500000</td>\n",
       "      <td>5.000000</td>\n",
       "      <td>893.000000</td>\n",
       "    </tr>\n",
       "    <tr>\n",
       "      <th>max</th>\n",
       "      <td>49999.000000</td>\n",
       "      <td>5.000000</td>\n",
       "      <td>5.000000</td>\n",
       "      <td>4986.000000</td>\n",
       "    </tr>\n",
       "  </tbody>\n",
       "</table>\n",
       "</div>"
      ],
      "text/plain": [
       "          review_id  restaurant_rating  customer_rating  review_text_length\n",
       "count  50000.000000       50000.000000     50000.000000        50000.000000\n",
       "mean   24999.500000           4.250000         4.319740          677.262140\n",
       "std    14433.901067           0.287231         1.018669          596.437954\n",
       "min        0.000000           4.000000         1.000000           17.000000\n",
       "25%    12499.750000           4.000000         4.000000          262.000000\n",
       "50%    24999.500000           4.000000         5.000000          507.000000\n",
       "75%    37499.250000           4.500000         5.000000          893.000000\n",
       "max    49999.000000           5.000000         5.000000         4986.000000"
      ]
     },
     "execution_count": 41,
     "metadata": {},
     "output_type": "execute_result"
    }
   ],
   "source": [
    "df.describe()"
   ]
  },
  {
   "cell_type": "markdown",
   "id": "450b5182-2769-4769-8689-356dd6af6c08",
   "metadata": {},
   "source": [
    "- The average rating is 4.25 and the min max is 4 and 5 so there isn't high variance. However the customer rating ranges from 1-5 so there will be difference in opinions even if they average out to around a 4.\n",
    "- This isn't all of the reviews since only 1000 of the most recent reviews were pulled from each restaurant"
   ]
  },
  {
   "cell_type": "code",
   "execution_count": 42,
   "id": "f34c9844-277e-426c-8a0b-7150b635a1ce",
   "metadata": {},
   "outputs": [
    {
     "data": {
      "image/png": "[encoded data removed]",
      "text/plain": [
       "<Figure size 720x576 with 1 Axes>"
      ]
     },
     "metadata": {
      "needs_background": "light"
     },
     "output_type": "display_data"
    }
   ],
   "source": [
    "plt.figure(figsize=(10,8))\n",
    "plt.tight_layout()\n",
    "plt.rc('axes', titlesize=30) \n",
    "plt.rc('axes', labelsize=20) \n",
    "plt.hist(df['review_text_length'])\n",
    "plt.title('Histogram of Review Text Length')\n",
    "plt.xlabel('Length of Review')\n",
    "plt.ylabel('Count')\n",
    "plt.savefig('../images/histogram_review_text.png');"
   ]
  },
  {
   "cell_type": "code",
   "execution_count": 43,
   "id": "f3fd23a1-6ff2-479f-8a86-8de069983ed4",
   "metadata": {},
   "outputs": [
    {
     "data": {
      "text/html": [
       "<div>\n",
       "<style scoped>\n",
       "    .dataframe tbody tr th:only-of-type {\n",
       "        vertical-align: middle;\n",
       "    }\n",
       "\n",
       "    .dataframe tbody tr th {\n",
       "        vertical-align: top;\n",
       "    }\n",
       "\n",
       "    .dataframe thead th {\n",
       "        text-align: right;\n",
       "    }\n",
       "</style>\n",
       "<table border=\"1\" class=\"dataframe\">\n",
       "  <thead>\n",
       "    <tr style=\"text-align: right;\">\n",
       "      <th></th>\n",
       "      <th>review_id</th>\n",
       "      <th>restaurant_name</th>\n",
       "      <th>restaurant_rating</th>\n",
       "      <th>customer_rating</th>\n",
       "      <th>review_text</th>\n",
       "      <th>review_text_length</th>\n",
       "    </tr>\n",
       "  </thead>\n",
       "  <tbody>\n",
       "    <tr>\n",
       "      <th>23948</th>\n",
       "      <td>23948</td>\n",
       "      <td>The Codmother Fish &amp; Chips</td>\n",
       "      <td>4.5</td>\n",
       "      <td>5</td>\n",
       "      <td>Great place! Yum!</td>\n",
       "      <td>17</td>\n",
       "    </tr>\n",
       "    <tr>\n",
       "      <th>17043</th>\n",
       "      <td>17043</td>\n",
       "      <td>Saigon Sandwich</td>\n",
       "      <td>4.5</td>\n",
       "      <td>1</td>\n",
       "      <td>Do not recommend Mitchell Towing!</td>\n",
       "      <td>33</td>\n",
       "    </tr>\n",
       "    <tr>\n",
       "      <th>18961</th>\n",
       "      <td>18961</td>\n",
       "      <td>Foreign Cinema</td>\n",
       "      <td>4.0</td>\n",
       "      <td>5</td>\n",
       "      <td>Amazing brunch spot to check out.</td>\n",
       "      <td>33</td>\n",
       "    </tr>\n",
       "    <tr>\n",
       "      <th>41877</th>\n",
       "      <td>41877</td>\n",
       "      <td>Philz Coffee</td>\n",
       "      <td>4.5</td>\n",
       "      <td>4</td>\n",
       "      <td>Mint mojito iced coffee was tasty</td>\n",
       "      <td>33</td>\n",
       "    </tr>\n",
       "    <tr>\n",
       "      <th>15177</th>\n",
       "      <td>15177</td>\n",
       "      <td>Golden Boy Pizza</td>\n",
       "      <td>4.5</td>\n",
       "      <td>4</td>\n",
       "      <td>Average slice of cheese pizza to-go</td>\n",
       "      <td>35</td>\n",
       "    </tr>\n",
       "    <tr>\n",
       "      <th>30047</th>\n",
       "      <td>30047</td>\n",
       "      <td>Espetus Churrascaria</td>\n",
       "      <td>4.0</td>\n",
       "      <td>5</td>\n",
       "      <td>fantastic experience, mmm delicious</td>\n",
       "      <td>35</td>\n",
       "    </tr>\n",
       "    <tr>\n",
       "      <th>43621</th>\n",
       "      <td>43621</td>\n",
       "      <td>Plow</td>\n",
       "      <td>4.0</td>\n",
       "      <td>5</td>\n",
       "      <td>Super yummy lemon ricotta pancakes!!</td>\n",
       "      <td>36</td>\n",
       "    </tr>\n",
       "    <tr>\n",
       "      <th>38856</th>\n",
       "      <td>38856</td>\n",
       "      <td>Anchor Oyster Bar</td>\n",
       "      <td>4.5</td>\n",
       "      <td>5</td>\n",
       "      <td>Long wait, but the freshest oysters in SF</td>\n",
       "      <td>41</td>\n",
       "    </tr>\n",
       "    <tr>\n",
       "      <th>10816</th>\n",
       "      <td>10816</td>\n",
       "      <td>Nopa</td>\n",
       "      <td>4.0</td>\n",
       "      <td>4</td>\n",
       "      <td>Good sized portions and friendly service!</td>\n",
       "      <td>41</td>\n",
       "    </tr>\n",
       "    <tr>\n",
       "      <th>29009</th>\n",
       "      <td>29009</td>\n",
       "      <td>Arizmendi Bakery</td>\n",
       "      <td>4.5</td>\n",
       "      <td>5</td>\n",
       "      <td>Their blueberry corn muffins are AMAZING!</td>\n",
       "      <td>41</td>\n",
       "    </tr>\n",
       "  </tbody>\n",
       "</table>\n",
       "</div>"
      ],
      "text/plain": [
       "       review_id             restaurant_name  restaurant_rating  \\\n",
       "23948      23948  The Codmother Fish & Chips                4.5   \n",
       "17043      17043             Saigon Sandwich                4.5   \n",
       "18961      18961              Foreign Cinema                4.0   \n",
       "41877      41877                Philz Coffee                4.5   \n",
       "15177      15177            Golden Boy Pizza                4.5   \n",
       "30047      30047        Espetus Churrascaria                4.0   \n",
       "43621      43621                        Plow                4.0   \n",
       "38856      38856           Anchor Oyster Bar                4.5   \n",
       "10816      10816                        Nopa                4.0   \n",
       "29009      29009            Arizmendi Bakery                4.5   \n",
       "\n",
       "       customer_rating                                review_text  \\\n",
       "23948                5                          Great place! Yum!   \n",
       "17043                1          Do not recommend Mitchell Towing!   \n",
       "18961                5          Amazing brunch spot to check out.   \n",
       "41877                4          Mint mojito iced coffee was tasty   \n",
       "15177                4        Average slice of cheese pizza to-go   \n",
       "30047                5        fantastic experience, mmm delicious   \n",
       "43621                5       Super yummy lemon ricotta pancakes!!   \n",
       "38856                5  Long wait, but the freshest oysters in SF   \n",
       "10816                4  Good sized portions and friendly service!   \n",
       "29009                5  Their blueberry corn muffins are AMAZING!   \n",
       "\n",
       "       review_text_length  \n",
       "23948                  17  \n",
       "17043                  33  \n",
       "18961                  33  \n",
       "41877                  33  \n",
       "15177                  35  \n",
       "30047                  35  \n",
       "43621                  36  \n",
       "38856                  41  \n",
       "10816                  41  \n",
       "29009                  41  "
      ]
     },
     "execution_count": 43,
     "metadata": {},
     "output_type": "execute_result"
    }
   ],
   "source": [
    "#Looking at the 10 shortest reviews\n",
    "df.sort_values(by = ['review_text_length'], ascending = True).head(10)"
   ]
  },
  {
   "cell_type": "code",
   "execution_count": 44,
   "id": "842d1fed-1445-4a20-a8a9-aad9a906bed9",
   "metadata": {
    "collapsed": true,
    "jupyter": {
     "outputs_hidden": true
    },
    "tags": []
   },
   "outputs": [
    {
     "name": "stdout",
     "output_type": "stream",
     "text": [
      "(16796, \"Perhaps no restaurant represents pizza in San Francisco's North Beach neighborhood better than Tony's Pizza Napoletana, which has been slinging pies for a full ten years now on the corner of Stockton and Union Streets catty corner to the historic Washington Square Park. The wait times and lines have been out the door for years now thanks to their signature Neapolitan pies that have been awards ever since they've opened. In my many times that I have been here there has never been a time in which I have waited at least a hour or longer for a table. But thankfully thanks for Yelp reservations, the wait times have been dramatically cut down in time. For the evening I went a Monday evening, we only had to wait roughly half an hour. I did try to do investigating to see if they were operating under regular hours since the Monday my party of five wanted to go was actually a holiday, but unfortunately the host service at Tony's isn't very good as the phone rings and rings, and when you are sent to voicemail, there is no voicemail to leave a message at. So with a wing and a prayer, I managed to make reservations via my Yelp app as I was in my ride share car waiting to arrive, as parking in that area of North Beach can be a real pain. Everything worked out in the end, as we actually waited for our party all to arrive in order to be sat, and this being a holiday evening meant there were plenty of open tables to sit at, which at Tony's is a rarity on any night.When ordering, customers will notice the abundance of the various styles of pizzas they offer at Tony's including Neapolitan, Classic American and Italian, Sicilian, Pizza Romana, Gluten Free and New York, Detroit and St. Louis Style. This is all possible to the seven different types of pizza ovens they have on site, including their large stone pizza oven on display in their dining room. At times, their menu can seem overwhelming as they have so many pizza options under each of the aforementioned categories that one could eat a different pizzas for weeks on end at Tony's! To start our meal off, we knew we we wanted some greens so we ordered from the Insalate section, their Little Italy salad made with mixed greens, chopped Castelveltrano olives, walnuts, Italian gorgonzola, olive oil, balsamic reduction, cherry tomatoes, and shaved parmigiano and from their Antipasti section, the Fried Ricotta Stuffed Squash Blossoms.The salad was a fresh tasting solid starter made a ton of fresh ingredients, while the squash blossoms were deep fried balls of just meh to me and left me wanting more (like one of their Meatball Gigantes, but I digress). Then came time to order our pizzas, for our table of five, we decided to go big by ordering three of their signature pizzas, all of which had a trophy by their names on their menu. We felt if it was good enough to win awards, it was good for us pizza novices to sample. We asked our server if they had any of their signature Margherita pizzas from the Napoletana section of their menu remaining as it previously won the World Pizza Cup in Naples and they only make seventy-five of them all day and night long, and we were lucky enough to be able to order one for the table. Since there was so many of us, we also ordered the New Yorker Coal Fired Pizza, which won the Gold Medal in Las Vegas, and the La Regina Sicilian Pizza, which was the Gold Cup winner at the International Pizza Championships in Parma, Italy.The first pizza to come out was their signature Margherita pizza made with specialized dough proofed in wood boxes (hence the limited amount), topped San Marzano tomatoes, sea salt, mozzarella fior di latte, basil and olive oil. We felt luck to finally try this signature pizza, but regretfully our table was for the most part entirely underwhelmed by the Margherita as perhaps we were expecting too much from this one pie. Not long after our La Regina Sicilian style pan pizza topped with Soppressata picante, Prosciutto di Parma, mozzarella, parmigiano, provolone and a healthy amount of arugula. I loved this pizza, not only did it fill us all up, bu the flavors were so different sitting on a warm thick flatbread that felt like Detroit-style pan pizza but it was authentic Italian pizza in its own right. Our third and final pizza was their Coal-Fired New Yorker with mozzarella, tomato sauce, pepperoni, Italian fennel sausage, calabrese sausage, ricotta, chopped garlic & oregano. This pizza featured a lot of meat on a thin crust. It was a good pizza, just nothing to remarkable about it that made us jump for joy.After our meal was all said and done, our bill for one salad, one appetizer and three pizzas was about $125 for all five of us, which wasn't too bad or too affordable when you think that we didn't get any drinks or dessert, but there was a decent amount of food to take home because no one could eat that much pizza in one sitting. Still after ten years, Tony's remains a bucket list must-visit for tourists and locals alike.\") \n",
      "\n",
      "(1816, \"The Danko Report. Finally. It took me 13 years and 2,200 Yelp reviews to get here, but I finally made it to Gary Danko. Yes, me...Ed U, the last of the hole-in-the-wall penny-pinchers, finally can check this one off the bucket list. And my verdict? Whaa...you really expected me to knock it? You would have to be one overbearing culinary curmudgeon to say that Gary Danko doesn't deliver the goods. It does, and if there is a certain lack of audacity in the execution, the unparalleled quality more than makes up for that. The occasion? Just felt like it...after a two-month wait, so Jamie W. and I arrived past the busy bar and into a mostly empty dining room at 5:30 on Saturday.Dimly lit in burnished pink and peach tones, it was starting to fill with a clientele unfamiliar to me, the silver-haired, well-heeled city denizens who probably send their foreign-born servants to get their double-doubles at In-N-Out. If you're not familiar with the drill, you should know that diners select from a three, four or five-course prix-fixe menu. Prices are $71, $89 and $104, respectively without any wine pairings. Since we ordered a couple of flutes of the Prosecco ($14), we were set on that front. We quickly received a tasty amuse bouche of Tomato Bisque (see photo). The food selections were overwhelming to us, so I asked our server Shelley for her recommendations which she did with great fluency.She was quite nice and bore a striking resemblance to a more youthful Helen Mirren. Thanks to her guidance, we experienced immediate gratification with our starters. The Sweet Corn Soup with Dungeness Crab, Bacon, Red Pepper, Crème Fraîche and Chive Biscuit, was a velvety joy with the soup poured onto the ingredients at the table (see photo). I went for the Seared Ahi Tuna with Avocado, Nori, Enoki Mushrooms and Lemon Soy Dressing, which was arranged like an exotic butterfly on the white plate (see photo). Lovely with just a tweak of citrus to give the tuna an added vibrancy. Pure decadence is the only way to describe the Risotto with Lobster, Dungeness Crab, Shimeji Mushrooms, Corn, Roasted Tomatoes and Peas (see photo).I could feel the calories building in my belly as each luxuriant spoonful entered my mouth. Jamie went for one of the signature dishes, the Roast Maine Lobster with Potato Purée, Chanterelle Mushrooms, Corn and Tarragon, where the lobster tail is carefully eviscerated from its shell, prepared until tender, and placed immaculately back into the shell (see photo). The kitchen generously split into two plates the Seared Sea Scallops with Beluga Lentils, Red Peppers, Madras Curry Vinaigrette and Mint (see photo). It's no exaggeration to state that the large scallop was probably the most perfectly exquisite scallop either of us ever had. It was just not to be believed how good it was.The game birds were next. I had the Lemon Pepper Duck Breast with Duck Hash, Bacon Braised Endive and Port Glazed Figs (see photo). Heightened by the sweetness of the figs, the thinly sliced breast pieces were luxuriant, while the hash was presented almost like a breakfast sausage patty but clearly the most expensive breakfast sausage patty ever. However, Jamie had hands down, the dish of the night with the Quail Stuffed with Cajun Rice, Romano Beans, Smoked Ham Hocks and Summer Cornbread Pudding (see photo). The quail was perfectly tender and downright melty when combined with the bites of ham hocks. I was jealous but hardly in a position to complain with my duck.We knew we would be sated at this point in the meal, so we decided to share the Strawberry Soufflé with Strawberry Sauce and Strawberry Sorbet (see photo) based on Shelley's recommendation over the more famous chocolate version. She was right - it was fresh and surprisingly light which made me think that someone in the kitchen must be exhausted from whipping those egg whites into a frenzy. I thought soufflés were somewhat passé in fine restaurants, but this rendition was absolutely masterful. Before we were halfway done, we were surprised with a complimentary birthday dessert, a Lemon Mousse Cake that was both elegant and citrusy good (see photo).Along with the platter of mini-cookies and sweets (see photo), we were on the edge of bloat, but who cares? We made it through a Gary Danko culinary extravaganza that we are unlikely to forget for years to come. Funny thing was that several of the diners there were obviously regulars judging by how familiar they were with the effusive kowtowing staff. I guess for them, coming here is like going to the Hungry Hunter for the early bird special. So for one brief shining evening, I felt like I was part of the 1%. Total bill? $227.58. And that concludes the Danko Report.FOOD - 5 stars...yep, Danko deliversAMBIANCE - 4 stars...not as fancy-schmancy as I expected, pretty comfortable actually... and they have their own branded toilet paperSERVICE - 5 stars...Shelley was greatTOTAL - 5 stars...you deserve the Danko experience, too\") \n",
      "\n",
      "(28890, \"State Bird was probably my favorite dining experience I have ever had, and I have had quite a few! I had wanted to eat here forever, and finally landed us a prime time reservation.We dined here on Friday, 2/4 w/ a 7:30 reservation. We were seated on time. The atmosphere was loud, and kind of trendy, with fun music playing.Our server approached us pretty quick, explained the rules of the game, because we all know that SBP isn't your typical dining experience, and then backed off and gave us time to look at the drink menu. Super nice guy. He came back with perfect timing to take our drink orders, and answered my wine question very satisfactorily. Fun fact- They purposely predominately choose lighter wines for their 'by the glass' selections, that pair well with all kinds of foods, because they know that the typical diner will be sampling dishes that span a wide variety of flavor profiles.Let's get on to the food. This is what we ordered:- Hog Island Oysters, kohlabri kraut and sesame: good, but I mean, a Hog Island Oyster is a Hog Island Oyster... I would focus my $ and stomach space on the more creative and exciting things- Sunchokes and beets with micro greens and (...get ready for my fancy foodie lingo...) a bit of some kind of creamy sauce (yogurt?) with crunchy stuff that they added once we said yes to it: Hella good. I first experienced Sunchokes at Lord Stanley and was turned off by them. Thought they just weren't my jam. But Husband said yes when this small plate came around, so I tried it, and super liked it. Very clean tastes, that all work harmoniously together.- Sourdough, sauerkraut, pecorino & ricotta pancakes (menu item): These little guys pack so much flavor. The warm ricotta in the center is perfection. If you hate sauerkraut, don't let that deter you from trying these. The flavor from it is very subtle. My husband hates sauerkraut, but I insisted he try it anyways, and he loved it.- Short rib with black bean paste: Fall off of the bone delicious, interesting with the black bean paste. Although very tasty, not one of the most unique dishes of the night.- Smoked trout- pickled onion chip and dip: If you are a chip and dip person, try this fancy play on it. The trout is fresh and clean, and pairs perfect with the onion. The chips are house made, and look just like ruffled Lays :) If you are short on stomach space though, I might pass on this one, simply because there were SO many options, and I wish I had had the room to try others over this one, but this was one of the earlier items that came around.- Chinese pork sausage with lemon yogurt: Really interesting flavor combo. I don't think I would have ever thought to pair yogurt with sausage, but it worked perfect together. Although tasty, this was another one that I would have passed on if I knew the other interesting things that were gong to come by that night. When it's just 2 of you, you have to be more discerning with what items you say yes to, because there's only so much stomach space :(- Fried rice with duck confit, fried onions, nameko mushrooms and chili aioli {menu item}: If you like rich food, holy mother of god, get this. My husband chose this one, and thank god he did, because I'm not a rice person and would not have chosen this. It turned out to be one of my favorite dishes of the night. That chili aioli is no joke though. It was spiiiccyyyy. But I'm kind of a puss, so. The dish is decadent and needs to be shared. It was so damned good. Every ingredient in there played perfect together. A week later, and I am still thinking of that rice.- CA Statebird {Wolf Ranch Quail with onion jam and parmensan} [menu item]: GET THIS. This little guy was absolute effing perfection. Husband declared that he didn't care for quail, and after having a bite, wanted to steal the rest of the dish from me. This is the restaurant's namesake, and rightfully so. This dish was the highlight of the night for me. The onion jam took the fried quail to another level.- Fried garlic bread with burrata: if you like fried stuff, and cheese, and wanna feel like a glutton at a fancy carnival, order this. One of my fav dishes of the night.- Guinea hen dumpling in an aromatic broth: Lovely dumpling in a delicate, yet complex broth. If you are a dumpling fan, try this.- Potato croquettes with ham: Perfectly crisp croquettes, and the sauces that came along, which I can't recall, were so lovely. This was a rich dish, and I love rich!- Blood orange granita with ricotta mousse {menu item}: My husband chose this as his dessert item and loved it. The cheese mousse paired with granita was very interesting, something I would never have thought of. - Bittersweet chocolate rice pudding, bana cream and spicy hazelnuts. Delicious, but I was so full I couldn't enjoy fully, lolI loved State Bird Provisions & think they are worthy of every single good thing that has been written about them. I already went into stalker obsessive mode and made another reservation!\") \n",
      "\n",
      "(18736, 'Foreign Cinema is truly one of its kind in the world of restaurants. With strings of lights that dimly light the outdoor patio area over our heads, the large clear canopy-roof covering that pulls the space together, and the charming movie that is projected onto a large wall starting at dusk, the restaurant easily makes it onto many gastronomers\\' lists of places you must dine at, with this perfectly romantic ambiance. My boyfriend brought me here for my birthday, even though I had only briefly mentioned the restaurant in passing many months ago (who doesn\\'t love a man who listens?) We arrived here about 20 minutes early and were offered an early seating by the nice hostess at the door. Our reservation was later into the evening, so we were appreciative of an earlier seating. Once seated, we had some time to really go over the menu before our assigned waitress finally showed up. Although she was professional, she wasn\\'t particularly warm or friendly. I was a little disappointed by this because I thought that really detracted from my nearly-perfect dining experience. She was a small waitress, but her demeanor seemed overly bold and standoffish; almost felt condescending at times, and only seemed to barely warm up to us towards the end of our meal. In retrospect, she didn\\'t really do or say much to us other than take down our orders and pour our carafe of wine a few times. The food though......... Amazing, satisfying, mouth-watering goodness with every bite. Aside from the most perfect date sitting across from me, the food helped keep me distracted from our less-than-stellar waitress. First thing I noticed was that the menu was printed daily, with the date at the top-- Oddly, it seemed to somehow make the day feel more special.. The rest of the menu however was confusing to navigate. According to our waitress, it appears that two of the sections were meant as appetizers... Luckily, my boyfriend had apparently done his homework on their menu and quickly suggested that we order 2 dishes from each section (Urban Picnic, Premieres, and California Features.) I saw those prices listed in a sophisticated tiny script off to the side and quickly declined -- \"What are you? Made of money or something?\" were the immediate thoughts running through my head. We compromised and settled on these dishes:Ahi Sashimi: About 5 pieces of soft raw fish layered over a few slices of fresh avocado, placed in the center of the plate where the sauce gathers. Pair it with one of the five crispy pieces of taro whiskers which line the plate will add some texture to those soft pieces of fish. Yummy, but the sauce overwhelmed the actual taste of the sashimi.Warm Brandade Gratin: A blend of cod and potatoes kept warm on a small cast iron plate, some pieces of crunchy grilled toast to pair with it, and finally some pickled veggies to bring all the flavors together. Jumbo Prawns: A must-order if you like prawns/shrimp. These prawns were cooked to perfection with the perfect soft-to-crunch texture. Furthermore, the heads of each prawn was mostly removed from the body for you, the result was a surprisingly easy and non-messy experience. I only had to tug daintily to get the heads off and the tail was just as easy to cut off with a table knife. Covered in a bath of what tasted like tomato sauce and paired with some potatoes sliced in slender chunks. Even my boyfriend who is deathly allergic to shellfish tried the tiniest of bites and enjoyed it.Hawaiian Mahi-Mahi: Light but crunchy pieces of papad lay gently on top of a fluffy piece of mahi-mahi centered on the plate. This dish had clear influences from the Mediterranean cuisine with the lentil puree and papad that accompanied it. Each flavor lightly represented in the dish, yet decidedly a powerful addition to the dish. Grilled Kobe Bavette: More soft potatoes were used to help balance out yet another dish. We were happily accepting of it though after we realized how much both of us really enjoyed the tender Kobe beef. Unlike the other dishes we had that night, we concluded that while the soft and mushy mashed potatoes helped create balance in the dish, it greatly trivialized the texture and tenderness of the Kobe beef that was supposed to be the star of the show. We thought that this dish was better enjoyed with a bite of the Kobe, then a bite of the soft potatoes so that we can appreciate each part of this dish without compromising balance. Our choice of wine paired deliciously with our food choices of the night, however, our carafe ran us $40, while the bottle apparently only costs $22 if you buy it from a store; an obvious example of the up-charge to dine at a place like Foreign Cinema.The verdict is: The food is absolutely wonderful and the experience was unlike any other I\\'ve had, but Foreign Cinema seems extremely overpriced in hindsight. I\\'d love to do this again for special occasions, but will most likely try other \"cool\" restaurants in the similar price range first.') \n",
      "\n",
      "(33467, 'From the same owner as Kitchen Story, Sweet Maple, Blackwood, and more, Surisan is another brunch/dinner spot opened by Steven Choi in San Francisco located in Fisherman\\'s Wharf. My girlfriend and I, along with a group of 4 other friends, came here on a Sunday afternoon with a 1PM reservation for 6 people. The restaurant is always busy around this time, so definitely make a reservation beforehand! We sat in the outdoor patio area, which was filled with people. Overall, I thought the food was pretty good! I would say not as good as some of the food I\\'ve had at the Steven Choi\\'s other restaurants like Kitchen Story and Berkeley Social Club, both of which I think are 5/5. Here\\'s a more detailed breakdown of what I thought of the dishes we ordered!- Hemingway Benedict: Smoked Salmon Benedict with nice pickled red onions and fried capers, which provided a nice contrast of acidity to the rich hollandaise sauce. In terms of balance, this was one of the better Benedicts I\\'ve had! The slight bit of wasabi in the hollandaise sauce was also a nice touch.- Blackstone Benedict: Eggs Benedict with the famous Millionaire\\'s bacon. If you don\\'t know, this bacon is kind of the trademark for all of the restaurants under this same owner. The bacon was of course delicious - rich, sweet, and decadent with the hollandaise. If you\\'re not sure what to get, then I would recommend getting this as there\\'s a little bit of everything here. - Country Benedict: An homage to chicken fried steak, this Benedict reminded me of having this southern classic back at home in Texas. Doused with creamy white gravy and hot sauce on top, the best bite probably came from this dish. The chicken was crispy and juicy, and the whole Benedict just had a really good balance between freshness, savoriness, spiciness, and acidity. - Dolsot Bibimbap: This dish was a bit underwhelming. Although the dish came out hot and sizzling, we felt like several of the elements were a bit off. The sauce, which is normally a mixture of gochujang, either had way too much sriracha in it, or it was just straight sriracha. Thus, when mixed with the meat and vegetables, it was too spicy for our taste, and it just didn\\'t taste like a normal dolsot bibimbap. In addition, although most of the items inside of the bibimbap were good, it was way too oily. The sides of the dolsot were really oily, and when finishing the food there was a lot of leftover oil at the bottom of the dolsot. As a complete dish with all of these elements together, it turned out to be just alright and left us a bit disappointed.- Kalbi Benedict: This seemed to be a limited item on the menu so I decided to try it. It was tender beef short-rib in Benedict form. I\\'m glad I got this because this was probably one of my favorite dishes out of the bunch that we ate that day. The short rib was fatty and tender, and with the hollandaise and slight crunch and bitterness of the arugula, it was a very satisfying dish to eat.- Blueberry Stuffed Crunch French Toast: This french toast was nearly perfect! Crispy, sweet, and creamy from the ricotta, this french toast was an elevated version of the regular french toast you\\'d get at a late night diner. The only gripe I had with this french toast was that it says that it\\'s \"blueberry stuffed\", but in our french toast we saw very few blueberries - the inside probably only had like 4-5 blueberries total. We were definitely expecting more fresh or slighted whipped blueberries with the ricotta filling, but otherwise it was really good.One other thing I want to mention that was a downside and one of the main reasons why I give Surisan a 4/5 and not a 5/5 is the attention to detail with the sides and the service. The fried potatoes are supposed to be the second best part of a brunch dish, if not even the first for some people. However, the potatoes, although they appeared to be crispy, were not super crispy and even slightly soggy coming out. Compared to the crispy rainbow potatoes that I\\'ve had from Kitchen Story and Blackwood, these potatoes were comparably not as good and a bit of a let down (bring the rainbow potatoes here!). Also, as mentioned above, the service that day wasn\\'t so great - in our group of 6 they brought out 5 of our dishes and actually forgot one person in our group. He had to end up waiting another 30 minutes for his dish, which resulted in him waiting more than an hour to actually get his food and eat. I\\'m sure it\\'s not like every service, but our experience was definitely dampened.All in all, most of the food here is at a pretty high bar. The Benedicts and French toast for Brunch are extremely good. However, there are some things that I believe can be improved here to increase the upwards quality of the food and service. I don\\'t this place is on par with some of other Steven Choi\\'s restaurants, but at the end of the day the food is good and sells, and I believe that this place will continue to improve so that it can reach the same level!') \n",
      "\n",
      "(28452, 'I was visiting my gf in SF and she txted me saying she got us reservation\\'s at State Bird for 9:30 pm. I yelped them up and saw how many reviews they had, and the pictures looked great. It\\'s a cozy and quaint vibe inside. Very relaxed and casual dressy.They have a regular menu, with small size appetizers, entrees and dessert but a separate menu for what they call their Provisions menu, which is the dim sum style plates. I would not say dim sum per se as far as the food, where it\\'s all dim sum and dumplings, but more of just the idea where they are all small, and the staff comes to your table, and you decide if you want it or not. They give you the cart menu after you have finished your meal, but I wish they gave it as you were seated so you can see what is to be expected and what the price point is. My gf has some food allergies so our waitress was very accommodating to make some modifications. She check marked on the menu what she could eat, could not eat and what could be modified. +State Bird Provisions Menu (Dim Sum style carts) _Oyster ($3 each) Hog island kohlrabi kraut and sesame. Small, fresh, I liked the kraut, helped to balance the oyster and I\\'m glad the overall taste was not fishy. _Dumpling ($3 each) Guinea hen dumpling with aromatic broth. This was a bit forgetful. Nothing amazing just a warm mushroom dumpling. I did like the outside, it was thin and not doughy. _Duck Liver Mousse ($8) Almond biscuit. The liver mousse was so delicate, tasty, silky and seasoned with a tad of salt on top. But was not a fan on the almond biscuit to pair with the mousse. Alone it was sweet and buttery but with the liver was so off putting, it took away from the mousse. A toast or bread could have made this mousse shine but with the almond biscuit all you taste is sugar and butter. Especially with mousse already being rich and delicate to pair it with the tiny biscuit was a faux pas. The mousse was way better on it\\'s own. _Pork Belly ($8) Pluot salad. This was very good. The pork belly was well cooked and seasoned. It had that nice little crisp and paired with the acidity of fresh strawberries helped to balance the fattiness of the pork. I believe there was either basil or mint, some green herb that also brought some freshness and earthy flavor to this dish. _Garlic bread with Burrata ($11) This was disappointing. The garlic bread itself was a huge let down. The texture of the bread seemed stale, tasteless and did nothing for the cheese. The burrata itself was not silky but more of a slight dense and crumble look to it. _Smoked trout \\'chip & dip\\' ($11) Horseradish crème fraiche. This is a must. I love the vinegar salty flavor of this whole dish. The chips were fresh and crunchy. The crème fraiche was cold and reminded me a bit of ranch. Paired with the roe on top, it had that nice subtle saltiness along with a creamy bite to it. I could have ate this for days. +Commandables_CA state bird with Provisions ($15) Wolfe ranch quail from Brent/ Vacaville, Ca. The quail was perfectly cooked. The skin was crunchy and hot, the batter was semi thin, and the chicken inside was fresh and well seasoned. It was paired with some cooked/steamed? onions that elevated this dish and gave it more depth to the flavors. I think some were white and dark meat. _Halibut ($18) \"Poisson cru\" with lime pickle aioli, salted cucumber and puffed black rice. This was more like a ceviche. Presentation was pretty, served on a fish shaped plate. It was very light and refreshing, I loved the texture of the puffed rice, it gave that subtle earthy toasty flavor. The cucumbers were a great pair and the aioli was subtle and added a nice creamy component. _Caesar ($16) Fresh heart of palm \"Caesar\", fermented spicy jalapeno kazu, and Bronx grapes. This was way too spicy for me. I missed the spicy jalapeno on the menu but I just had 2 bites and all I tasted was spice and nothing else. So can\\'t say much for this dish._Chanterelle- Yuba ($20) \"all amatriciana\" with jowl bacon, pecorino, and basil. When I read all amatricinana I thought it was pasta, but it was not. To our surprise it looked like pasta but tasted more like those Asian style tofu skin. It did feel like and I like that the overall taste was like a tomato ragu, so it did give that feel of pasta. It was earthy and aromatic. The bacon was a nice touch for some added saltiness and of course because it\\'s bacon! +Desserts_Crème fraiche \\'ice cream\\' sandwich ($12) Oat macaron, candy cap apples. We were so done at this point but how can you turn down dessert. We got the smaller size option. Came in 3 small pieces. The ice cream inside was I think a vanilla ice cream, and the outside crust layers tasted like almond macarons, as well as the texture to a macaron. I was not a fan of the cap apples (vinegar apples?) It was too sweet, tart and acidic it took away from the sandwich. But everything else was great. Overall I had a great dining experience! Out waitress was also amazing.') \n",
      "\n",
      "(48742, \"Daeho Kalbijjim & Beef Soup, which opened earlier this year in in San Francisco's Japantown neighborhood on Post Street, represents one of many new Korean restaurants in the city signaling a rebirth for how we traditionally think of standard Korean cuisine. At Daeho, groups line up for hours to split the most delectable Korean based soups and stews filled with spicy meats and other fresh ingredients as well as other more traditional dishes when eating Korean food. I found Daeho even existed not through a food blog or a fellow Yelpers, but through an image shared on Instagram no less. I took one look at their signature dish, the Daeho Style Kalbijjim which was covered in cheese, which is something I had never seen before, and I was sold on being determined to try it in the near future. And that day was a slightly chilly fall evening, and getting seats within a reasonable amount of time turned out to be our biggest challenge of the evening. Yelp reservations open up only at 6 p.m., and when I arrived at their door, the mass of people waiting to snag a table told me I had to get cracking. The wait was literally almost ninety minutes, which in hindsight is insane, but since we ventured all the way out to Japantown, I knew we had to do it. The good news is that one can go shopping across the street at the Japantown Center and still keep tabs of your reservation via the Yelp app.When we returned roughly ninety minute later to claim our seats, the host immediately begins your pre-ordering of their menu so when you are sat, your food is basically ready to be served. The first thing that the host asked us was if we wanted the Kalbijjim which was their braised beef rib served in a warm stone pot, served in two sizes, medium, with a regular amount of meat, or large, served with extra meat. Since there was four in our party we seriously considered going with the large size so we could all split it, and then we asked the host what extra he would consider ordering and he responded that the most popular sides were the thick glass noodles, rice cakes, and of course the cheese. We then took a look at the front of the menu featuring their other signature dish, the Suyuk, otherwise known as the boiled beef soup, the combination version of their Suyuk featured an array of meats including brisket point, royal brisket, knee bone, ox tail, and beef rib along with fresh vegetables and beef broth. When we decided to order that dish as well, our host recommended that we should then order the regular Kalbijjim to go with our Suyuk.Upon sitting at a shared communal table, we were immediately served kimchee, spicy scallions and daikon along with a delightful yet very spicy dipping sauce filled with more picked veggies and jalapenos. Almost immediately thereafter, our Suyuk bowl was placed on a portable burner, it took a while for it to boil over, but it was filled with every meat and fresh green onions and mushrooms to boot. The bowl it was served in was a little shallow to really give the entire soup a good mix, but we were very satisfied with amount of food that came with every serving. Less than a few minutes after that, our Kalbijjim was presented to our table and it was a festive array of bone-in meats, vegetables like potatoes and daikon, and all of the extras that we ordered from the glass noodles to the rice cakes, all topped with that abundance of shredded cheese. What makes this stone dish such an eye opener, is that your server will torch the uncooked cheese on top of your Kalbijjim with a blowtorch right in front of your eyes. Make no bones about it, this dish has become such an eye-catcher due to its social media friendliness. Now I know what they mean when they say the camera eats first, as everyone who orders this dish, and I mean every table in the restaurant was eating one of the three options they have on their menu, they were simultaneously torching and video capturing away. As for the taste, with every bite you had a rich amount of spiciness but not too much, and perfect amount of warm and tender meat on the bones. The dish is messy, thanks to all of the sauces, stews, and of course cheese, but that only made it more fun to eat!Service can be a bit manic at Daeho as they don't have many servers and it is very loud. The menu says rice comes at an extra cost, but one of our servers said it was complimentary so we did the right thing and ordered four of the purple rice bowls and made sure we took that and everything else we couldn't finish, which was a lot, home with us. Daeho is the perfect Korean restaurant where you can enjoy a unique dinner by splitting their signature giant cauldrons of food with companions and still have some for later. Is it affordable? Not really, as even two of their signature dishes can put you back about a hundred and twenty dollars with all the extras included, but it's an experience and with the array of dining in San Francisco that is always considered a bonus.\") \n",
      "\n",
      "(1806, 'This is long.I apologize in advance. This review isn\\'t based on the food but on the pre-dining service.I don\\'t write negative reviews that often, especially for restaurants. I\\'ve spent more than my fair share of time working with the public as a server in a formal steak house and understand the plethora of guests that expect the world and find every opportunity to complain about the silliest things.With that said, I\\'m more than disappointed by the level of service that I have experienced over the course of 10 days before ever dining here. I\\'ve been purchasing numerous gift cards from fine restaurants & hotels all over the country for the corporate board of my employer. These GC\\'s were to be given out on Fri, 4/7 and the last card to get was from Gary Danko, which is only 2 miles away from my office.Mon, 4/3 - I called to see if I could order over the phone. I spoke with Rachel, who was quite lovely. She informed me that if I filled out the form online and sent it back via email it would be processed and sent out that same day. I expressed that I would be more than happy to pay to have it overnighted, just in case. She said that given how close I am it wouldn\\'t be a worry and it\\'s much easier for her to send it via USPS.I sent everything over and received an email from Kelly about 20 mins later saying they received my info and they would \"process it & get it sent out today\". So far, so good.Thur, 4/6 - No GC. It was going to my office only 2 miles away. I called to express my concern. I stated that the mail had arrived and I reiterated that it was needed by noon the next day. I reminded them that is why I was willing to pay for overnight service and she said that they don\\'t like doing overnight because it isn\\'t convenient for them.I\\'m seeing a pattern. I asked if they could issue a new one and have it couriered over. She smugly stated that I should come to them. I said that if it were easy for me to leave my office for an hour I would\\'ve done so. I explained that it would be equivalent to their leaving in the middle of a dinner rush. She continued to say that I should come in after work. I live in the East Bay and that\\'s not as easy as it sounds during commute hours. Fri, 4/7 - Still no GC. Deadline had passed and the person it was to go to was not able to receive it. I called again and was told they couldn\\'t do anything further. I was told that there is a \"check off\" system that \"tracks\" the progress of a GC purchase and I was speaking to the person who initialed that it was put in an envelope and postage was placed on it so it must be stuck in the mail.Mon, 4/10 - Still no GC. I called & pressed the key specified to go to the \"General Manager\". A woman answered and I asked for the GM. She said there isn\\'t a GM per se but she could direct me accordingly.Huh!?! I detailed the basics and insisted that I speak to a manager. She took my info and I received a call from Brian, the restaurant\\'s manager. He had an open ear as I gave him the play by play. He was insistent that they did everything they could. I mentioned how a lesser restaurant would see the right way to complete a purchase. I can only imagine how annoying I was. He decided to run the GC over to my office by the end of the day. I was gone by the time he arrived but it was waiting for me in the morning. Issue resolved. No need to write a review & the experience can be put behind us. So, I thought.Wed, 4/12 - Guess what was in the mailbox!?! The GC arrived. The post mark stamped on the envelope was dated 4/10 not 4/3. I sent a text with a pic of the postmark to Brian to let him know the GC arrived and his staff didn\\'t send the GC on time. His response was quite brazen in that it lacked any sort of apology for the errors and lies yet he tasked me to send back the GC.Here\\'s the text exchange:Me: Greetings. This is Jeff Kaluzny. Thank you again for hand delivering the gift certificate. I wanted to let you know that the original one was received today. However, you should also know that the postmark is dated 10 April, a week after I purchased it and when I was repeatedly told that your accurate check off system confirmed that it was sent. You may want to investigate its efficacy.Brian: Good Afternoon Jeff. Thank you for reaching out and letting me know. I would kindly ask if you could please return that Gift Certificate to us. Thank you, and I look forward to welcoming your CFO for dinner.Me: The GC already found its way to the shredder.Really? I provide proof that your team screwed up, tried to cover it up, & spoke to me as though I were crazy and you couldn\\'t bring yourself to remotely apologize? I\\'m sure your food is exquisite and the experience is lovely but none of that matters if the pre-dining experience is riddled with arrogance and lack of consideration for correcting mistakes that are easy to correct.Lesson to be learned by Gary Danko staff: It\\'s amazing how far a simple, sincere apology goes to rectify any situation.') \n",
      "\n",
      "(46534, \"Located in downtown SF, across the street from Yerba Buena Gardens, you can find yourself in this fancy little Mexican restaurant. The ambiance is nice - dim lit restaurant (not great for pictures) and beautiful decor - almost feels like you're in a touristy part of Mexico! Except the food don't taste authentic. The price of the food is average (~$15 an entree) but I don't think it's worth it for the quality, maybe the ambiance and location. They do have generous portions though. There is outdoor seating as well as a bar. Their drinks are known to be strong and they have a good tequila selection (though I haven't ordered any yet..too old for shots now!). Now with my little intro over, lets get into the review, shall we?!(Scroll down to star for BAD review part)I've been here twice and I don't think I'm coming back again after my most recent visit. My first visit was nice, but it wasn't the place for a broke college student. I do remember ordering a cocktail and it was pretty darn strong. If your intentions are to get drunk, you've come to the right place. Just don't drink a drive! Muni, bart, and taxi's are nearby if needed. To get a taxi, maybe you should go to the Marriot next door, haha. I remember ordering the chile verde for my first visit. From what I remember, I didn't eat half the plate, but I do remember it being good.... but I didn't eat half of it cause I don't like beans lol. Most recent visit, I made sure not to order the same thing for my first visit (almost forgot I ordered it) because it sounded soo good .. but I remember not liking it that much, haha. I ordered the a 3 item combo from OLD SCHOOL FAVORITE PLATO'S ($14.95). Thought it was the best deal if you ain't made of money yet lol. (Slowly growing in my career...). You can choose tacos or enchiladas, tamales, and flautas. I ordered 3 al pastor tacos since tacos have become a new love in my life. Thought it was meh because of the tortilla and what seemed to be no sauce on my meat. Tasted pretty bland. I'll stick to my street tacos. I also ordered a Corona ($6) since the cocktails are like $10+. My total came out to be a little over $20 for 3 tacos and a corona. ***Okay, now where did this all go wrong? This dinner was supposed to be my friends birthday dinner. She made reservations for 12 people and we were separated into 2 different tables nearby each other, but not next to each other. What are reservations really for, if you guys are not ready to seat a big group? I understand it's busy because it's the weekend and dinner time but still...While waiting for our orders, a family next to us was finishing up. We noticed that the father had an issue with the bill and he stayed there for about another half hour, trying to figure it out. Turns out he was billed more than he should have. (Wait for it.. there's more)Our orders came 2-3 at a time for our table at 6. Of course we didn't feel right to eat our dish while the others didn't have theirs yet, so by the time it did come, it got cold. Table manners! The other table (our friends) finished before us because they got seated first. When paying for the bill, each table put multiple credit cards (5-6?). We try our best to make it easy for servers by writing the last four digits of the card with the cost of the transaction. My friend watched the server swipe each one. Now here's where things get weird.. my friends credit card goes missing when the rest of the tables cards get returned!! How the heck did a credit card go MISSING while getting swiped?! My friend accuses the server of theft. After arguing for about 30 mins, they compensated their table with a round of tequila shots (probably some low quality kind). BUT HER CREDIT CARD IS STILL MISSING!! She was pretty pissed because she had to use it for Cancun in the next 3 days.. Now we have a new group sitting next to us. The server doesn't come to them for about 30 minutes (probably because of the whole missing credit card thing), so they get up and leave without making their order. They dodged a bullet. Now our bill comes. We are charged 2 extra dishes on our bill, so this confused the whole table when splitting the tab. We notified them. New receipt, we write the cost of each transaction with the last 4 digits of the cc in the back again. When the waiter came to pick it up, we verbally told him about the cost of each card on the back of the receipt. We get the bill back and we're all charged ~$41 evenly... We tell him of another mistake, and he refunds us and swipes our cc's again for the charge that was on the receipt for each card. This could've saved us 20 minutes. The birthday dinner was a disaster with the whole mis-charges and missing credit card. Don't think I'm coming back again, because our server was sketch AF with all these unnecessary additional charges (for us and other table). Oh, and if you would like to know, his name was Hugo according to my receipt. We were seated in the nice corner with curtain\") \n",
      "\n",
      "(39681, 'Overall, we had a good meal here. I\\'ll give you some useful information and then list some pros and cons:1) Opening time: Technically they open at 8am, but this is to-go\\'s only. 2) Saturday wait time (7/20/19): My husband arrived around 9:15am, and said there were 14 people ahead of him.3) Seating time: So all the other Yelp reviews I\\'ve read said that they start seating around 10:30am. This is FALSE. They start seating whenever they are ready and want to open. Due to what I read earlier I arrived at 10:20am to meet up with my husband, but they started seating people around 10:05am on this day. We could\\'ve been the last 2 in the first seating, but alas that didn\\'t happen.4) # seats: I forgot to count, but I think it\\'s maybe 14-15. They let the 2 people behind my husband in as the last 2 in the first seating, but they ended up standing at the very end of the counter near the entrance. There is space for both of them standing, although very cramped.5) Holding seats: No. All parties must be present. You cannot sit first even if you order first.6) Seating later: Basically, if someone leaves and you are next in line you just go sit down. Don\\'t expect someone to come greet you and tell you where to sit.7) Getting to-go\\'s: Basically you just walk up to the end of the bar near the entrance and wave down someone that comes by the window to grab food. There really isn\\'t an official system for this. 8) Price: $173 including tax and tip for 2 of us. You can see what we ordered below.Pros:* VERY fresh seafood.* Friendly hosts and neighbors. The atmosphere is very relaxed, and even with the long line outside you will never feel rushed. You may even end up chatting with your neighbors. We had 4 sets of neighbors during our time there (2 from end of 1st seating, and 2 new ones from 2nd seating) and 3 of the 4 sets asked us about our food. With one of them we chatted a bit more and had a ton of fun :).Cons:* Being the first to sit in the 2nd seating, they were already out of the Crabsanthenum (plate of crab legs). Basically they only have so many whole crab leg pieces available daily. They only had unformed shredded pieces of crab meat left for crab cocktails, salads, etc.* Seating was very tight, so expect to rub shoulders occasionally with your neighbors.* The serving structure is very relaxed, just like the atmosphere. Don\\'t expect a mechanical \"greet, order, check-in\" system like traditional restaurants. We had to wave someone down to help us, and people will come by to check on us occasionally, but definitely nothing like a traditional server-by-your-table restaurant.* Almost everything is cold. After awhile my stomach was craving something hot, and your only option is the clam chowder.Food - we ordered the following:* Red eye -- Alcoholic drink with a spiciness level of 1-10. We did a 7, and I\\'d compare that to a Bloody Mary when I ask for extra spicy. My husband liked this a lot, but I\\'m ambivalent with it. It\\'s got a unique taste but also a tad bit of a sweet taste which I didn\\'t like. Imagine a Bloody Mary that\\'s a bit sparkly and sweet.* Scicilian sashimi - the 2 of us shared a medium and I think the size is right. You get 4 types of fish and scallops with the special season. I liked this, but I liked the scallops the best out of everything so next time I would just get the scallops (you can just order the scallops in this seasoning or the ponzu via \"Dozen Eggs\").* Crab back -- I\\'ve always loved eating crab backs, and this tastes like all the other crab backs I\\'ve had except it\\'s cleaned up and prepared for you, ready to consume in a yummy crab-innards-tasting liquid. In the past I\\'d have to pick out the edible parts myself, so this is much better. You can eat it straight or dip it in bread. I didn\\'t think I\\'d like dipping it in bread but it was surprisingly delicious!* Fresh uni -- We were told they open up differently, but the one we got was dark brown, not sweet, not creamy, but bitter and a bit sudsy. We eat ate a piece and I spit mine out. Being a HUGE uni lover it says a lot when I walked out thinking that I just ate the worst uni of my life. The people next to us asked about it and we told them it wasn\\'t great but they are welcomed to try (came with 5 pieces, 3 left) and they hated it too. They had maybe 10-20 in the window when they opened, probably the stock for the day.* Dozen eggs -- Fresh scallops in ponzu sauce topped with a drop of Sriracha. Scallops are fresh and sweet, but I found the ponzu to be a bit overbearing (too much). I\\'d prefer just a dash so I can taste more of the natural sweetness of the scallops. If you don\\'t like spicy, perhaps ask them not to add the sriracha, because there\\'s definitely a nice kick to it.* Fresh oysters -- 6 Kumamotos, 6 Miyagi: Kumamotos are delicious as always. We tried 3 different types of Miyagis and found the British Columbia ones to be our favorites - they are more sweet and creamy than the other two (I forgot the names of those).') \n",
      "\n"
     ]
    }
   ],
   "source": [
    "# Looking at the 10 longest reviews\n",
    "for row in df.sort_values(by = ['review_text_length'], ascending = False)['review_text'][0:10].iteritems():\n",
    "    print(row, '\\n')"
   ]
  },
  {
   "cell_type": "code",
   "execution_count": 45,
   "id": "23c94322-4f7e-43bc-a595-68c35cdb4896",
   "metadata": {},
   "outputs": [
    {
     "data": {
      "text/plain": [
       "restaurant_name\n",
       "Anchor Oyster Bar                    656.426\n",
       "Arizmendi Bakery                     556.746\n",
       "Beretta                              675.965\n",
       "Brenda's French Soul Food            690.931\n",
       "Burma Superstar                      703.577\n",
       "Chapeau                              936.097\n",
       "Chez Maman East                      613.987\n",
       "Daeho Kalbijjim & Beef Soup          770.515\n",
       "Dumpling Time                        757.539\n",
       "El Farolito                          560.587\n",
       "Espetus Churrascaria                 734.107\n",
       "Farmhouse Kitchen Thai Cuisine       718.716\n",
       "Fog Harbor Fish House                520.974\n",
       "Foreign Cinema                       841.654\n",
       "Gary Danko                          1163.119\n",
       "Golden Boy Pizza                     544.663\n",
       "Good Mong Kok Bakery                 618.963\n",
       "HRD                                  690.617\n",
       "Hog Island Oyster                    645.026\n",
       "House of Prime Rib                   812.614\n",
       "Kitchen Story                        754.631\n",
       "Kokkari Estiatorio                   749.492\n",
       "La Taqueria                          613.472\n",
       "Limoncello                           399.171\n",
       "Little Star Pizza - Divisadero       604.098\n",
       "Lolinda                              826.069\n",
       "Loló                                 616.695\n",
       "Mama's On Washington Square          683.537\n",
       "Marrakech Magic Theater              436.118\n",
       "Marufuku Ramen                       545.920\n",
       "Nara Restaurant & Sake Bar           457.523\n",
       "Nopa                                 854.753\n",
       "Philz Coffee                         620.096\n",
       "Plow                                 774.021\n",
       "Saigon Sandwich                      533.649\n",
       "San Tung                             632.796\n",
       "Scoma's Restaurant                   578.290\n",
       "Shizen Vegan Sushi Bar & Izakaya     712.347\n",
       "Sotto Mare                           600.444\n",
       "State Bird Provisions               1189.048\n",
       "Suppenküche                          709.335\n",
       "Surisan                              683.512\n",
       "Swan Oyster Depot                    803.012\n",
       "Sweet Maple                          625.071\n",
       "Tacorea                              569.385\n",
       "Tartine Bakery                       584.223\n",
       "The Codmother Fish & Chips           549.686\n",
       "Tony's Pizza Napoletana              576.184\n",
       "Tropisueño                           654.518\n",
       "Zazie                                713.188\n",
       "Name: review_text_length, dtype: float64"
      ]
     },
     "execution_count": 45,
     "metadata": {},
     "output_type": "execute_result"
    }
   ],
   "source": [
    "df.groupby(by = ['restaurant_name'])['review_text_length'].mean()"
   ]
  },
  {
   "cell_type": "markdown",
   "id": "132c9b2d-a276-4e49-8564-8e1e0e50b828",
   "metadata": {},
   "source": [
    "## Create sentences from each of the reviews"
   ]
  },
  {
   "cell_type": "code",
   "execution_count": 46,
   "id": "c5da3f82-fc6e-4022-858d-de52277a523b",
   "metadata": {},
   "outputs": [],
   "source": [
    "nlp = spacy.load('en_core_web_md')"
   ]
  },
  {
   "cell_type": "code",
   "execution_count": 47,
   "id": "af99760f-48b0-4d4e-b769-aaf4d0df9b63",
   "metadata": {},
   "outputs": [],
   "source": [
    "#Creating a list of sentences from the review using spacey\n",
    "\n",
    "def create_sentences_from_review(review, nlp):\n",
    "\n",
    "    spacey_doc = nlp(review)\n",
    "    \n",
    "    return [str(sent) for sent in spacey_doc.sents]"
   ]
  },
  {
   "cell_type": "code",
   "execution_count": 49,
   "id": "0410e25f-8cd8-4f19-8983-9fcf6a48cb2d",
   "metadata": {
    "tags": []
   },
   "outputs": [],
   "source": [
    "# Creating new column sentences (list of sentences)\n",
    "\n",
    "df['sentences'] = df['review_text'].apply(lambda x: create_sentences_from_review(x, nlp))"
   ]
  },
  {
   "cell_type": "code",
   "execution_count": 50,
   "id": "27ecdb0d-045c-417d-ba51-f97ccc68af97",
   "metadata": {
    "tags": []
   },
   "outputs": [
    {
     "data": {
      "text/html": [
       "<div>\n",
       "<style scoped>\n",
       "    .dataframe tbody tr th:only-of-type {\n",
       "        vertical-align: middle;\n",
       "    }\n",
       "\n",
       "    .dataframe tbody tr th {\n",
       "        vertical-align: top;\n",
       "    }\n",
       "\n",
       "    .dataframe thead th {\n",
       "        text-align: right;\n",
       "    }\n",
       "</style>\n",
       "<table border=\"1\" class=\"dataframe\">\n",
       "  <thead>\n",
       "    <tr style=\"text-align: right;\">\n",
       "      <th></th>\n",
       "      <th>review_id</th>\n",
       "      <th>restaurant_name</th>\n",
       "      <th>restaurant_rating</th>\n",
       "      <th>customer_rating</th>\n",
       "      <th>review_text</th>\n",
       "      <th>review_text_length</th>\n",
       "      <th>sentences</th>\n",
       "    </tr>\n",
       "  </thead>\n",
       "  <tbody>\n",
       "    <tr>\n",
       "      <th>0</th>\n",
       "      <td>0</td>\n",
       "      <td>Brenda's French Soul Food</td>\n",
       "      <td>4.0</td>\n",
       "      <td>5</td>\n",
       "      <td>Absolutely amazing. I've dined here at least 6...</td>\n",
       "      <td>217</td>\n",
       "      <td>[Absolutely amazing., I've dined here at least...</td>\n",
       "    </tr>\n",
       "    <tr>\n",
       "      <th>1</th>\n",
       "      <td>1</td>\n",
       "      <td>Brenda's French Soul Food</td>\n",
       "      <td>4.0</td>\n",
       "      <td>5</td>\n",
       "      <td>So good we went twice in one week! After a rec...</td>\n",
       "      <td>560</td>\n",
       "      <td>[So good we went twice in one week!, After a r...</td>\n",
       "    </tr>\n",
       "    <tr>\n",
       "      <th>2</th>\n",
       "      <td>2</td>\n",
       "      <td>Brenda's French Soul Food</td>\n",
       "      <td>4.0</td>\n",
       "      <td>2</td>\n",
       "      <td>Hadn't been here in years because the neighbor...</td>\n",
       "      <td>461</td>\n",
       "      <td>[Hadn't been here in years because the neighbo...</td>\n",
       "    </tr>\n",
       "    <tr>\n",
       "      <th>3</th>\n",
       "      <td>3</td>\n",
       "      <td>Brenda's French Soul Food</td>\n",
       "      <td>4.0</td>\n",
       "      <td>3</td>\n",
       "      <td>I love the other Brenda's in SF but this one d...</td>\n",
       "      <td>753</td>\n",
       "      <td>[I love the other Brenda's in SF but this one ...</td>\n",
       "    </tr>\n",
       "    <tr>\n",
       "      <th>4</th>\n",
       "      <td>4</td>\n",
       "      <td>Brenda's French Soul Food</td>\n",
       "      <td>4.0</td>\n",
       "      <td>5</td>\n",
       "      <td>Another repeat visit and no disappointment fro...</td>\n",
       "      <td>497</td>\n",
       "      <td>[Another repeat visit and no disappointment fr...</td>\n",
       "    </tr>\n",
       "  </tbody>\n",
       "</table>\n",
       "</div>"
      ],
      "text/plain": [
       "   review_id            restaurant_name  restaurant_rating  customer_rating  \\\n",
       "0          0  Brenda's French Soul Food                4.0                5   \n",
       "1          1  Brenda's French Soul Food                4.0                5   \n",
       "2          2  Brenda's French Soul Food                4.0                2   \n",
       "3          3  Brenda's French Soul Food                4.0                3   \n",
       "4          4  Brenda's French Soul Food                4.0                5   \n",
       "\n",
       "                                         review_text  review_text_length  \\\n",
       "0  Absolutely amazing. I've dined here at least 6...                 217   \n",
       "1  So good we went twice in one week! After a rec...                 560   \n",
       "2  Hadn't been here in years because the neighbor...                 461   \n",
       "3  I love the other Brenda's in SF but this one d...                 753   \n",
       "4  Another repeat visit and no disappointment fro...                 497   \n",
       "\n",
       "                                           sentences  \n",
       "0  [Absolutely amazing., I've dined here at least...  \n",
       "1  [So good we went twice in one week!, After a r...  \n",
       "2  [Hadn't been here in years because the neighbo...  \n",
       "3  [I love the other Brenda's in SF but this one ...  \n",
       "4  [Another repeat visit and no disappointment fr...  "
      ]
     },
     "execution_count": 50,
     "metadata": {},
     "output_type": "execute_result"
    }
   ],
   "source": [
    "df.head()"
   ]
  },
  {
   "cell_type": "code",
   "execution_count": 51,
   "id": "63a7b212-bb32-45dc-90e6-b6bb3f6976e7",
   "metadata": {},
   "outputs": [
    {
     "data": {
      "text/plain": [
       "469122"
      ]
     },
     "execution_count": 51,
     "metadata": {},
     "output_type": "execute_result"
    }
   ],
   "source": [
    "# Creating column sentence count\n",
    "\n",
    "df['sentence_count'] = df['sentences'].apply(lambda x: len(x))\n",
    "\n",
    "# Looking at total amount of sentences\n",
    "\n",
    "df['sentence_count'].sum()"
   ]
  },
  {
   "cell_type": "code",
   "execution_count": 53,
   "id": "1cf1f043-9d00-4f73-97dc-712bb4b8e7af",
   "metadata": {},
   "outputs": [
    {
     "data": {
      "image/png": "[encoded data removed]",
      "text/plain": [
       "<Figure size 720x576 with 1 Axes>"
      ]
     },
     "metadata": {
      "needs_background": "light"
     },
     "output_type": "display_data"
    }
   ],
   "source": [
    "plt.figure(figsize=(10,8))\n",
    "plt.tight_layout()\n",
    "plt.rc('axes', titlesize=30) \n",
    "plt.rc('axes', labelsize=20) \n",
    "plt.hist(df['sentence_count'])\n",
    "plt.title('Histogram of Sentence Counts of Reviews')\n",
    "plt.xlabel('Number of Sentences')\n",
    "plt.ylabel('Count')\n",
    "plt.savefig('../images/histogram_sentence_count.png');"
   ]
  },
  {
   "cell_type": "code",
   "execution_count": 54,
   "id": "20b81489-1f66-44a6-8e29-d8eec76a2c33",
   "metadata": {},
   "outputs": [
    {
     "data": {
      "text/html": [
       "<div>\n",
       "<style scoped>\n",
       "    .dataframe tbody tr th:only-of-type {\n",
       "        vertical-align: middle;\n",
       "    }\n",
       "\n",
       "    .dataframe tbody tr th {\n",
       "        vertical-align: top;\n",
       "    }\n",
       "\n",
       "    .dataframe thead th {\n",
       "        text-align: right;\n",
       "    }\n",
       "</style>\n",
       "<table border=\"1\" class=\"dataframe\">\n",
       "  <thead>\n",
       "    <tr style=\"text-align: right;\">\n",
       "      <th></th>\n",
       "      <th>review_id</th>\n",
       "      <th>restaurant_rating</th>\n",
       "      <th>customer_rating</th>\n",
       "      <th>review_text_length</th>\n",
       "      <th>sentence_count</th>\n",
       "    </tr>\n",
       "  </thead>\n",
       "  <tbody>\n",
       "    <tr>\n",
       "      <th>count</th>\n",
       "      <td>50000.000000</td>\n",
       "      <td>50000.000000</td>\n",
       "      <td>50000.000000</td>\n",
       "      <td>50000.000000</td>\n",
       "      <td>50000.000000</td>\n",
       "    </tr>\n",
       "    <tr>\n",
       "      <th>mean</th>\n",
       "      <td>24999.500000</td>\n",
       "      <td>4.250000</td>\n",
       "      <td>4.319740</td>\n",
       "      <td>677.262140</td>\n",
       "      <td>9.382440</td>\n",
       "    </tr>\n",
       "    <tr>\n",
       "      <th>std</th>\n",
       "      <td>14433.901067</td>\n",
       "      <td>0.287231</td>\n",
       "      <td>1.018669</td>\n",
       "      <td>596.437954</td>\n",
       "      <td>7.460794</td>\n",
       "    </tr>\n",
       "    <tr>\n",
       "      <th>min</th>\n",
       "      <td>0.000000</td>\n",
       "      <td>4.000000</td>\n",
       "      <td>1.000000</td>\n",
       "      <td>17.000000</td>\n",
       "      <td>1.000000</td>\n",
       "    </tr>\n",
       "    <tr>\n",
       "      <th>25%</th>\n",
       "      <td>12499.750000</td>\n",
       "      <td>4.000000</td>\n",
       "      <td>4.000000</td>\n",
       "      <td>262.000000</td>\n",
       "      <td>4.000000</td>\n",
       "    </tr>\n",
       "    <tr>\n",
       "      <th>50%</th>\n",
       "      <td>24999.500000</td>\n",
       "      <td>4.000000</td>\n",
       "      <td>5.000000</td>\n",
       "      <td>507.000000</td>\n",
       "      <td>7.000000</td>\n",
       "    </tr>\n",
       "    <tr>\n",
       "      <th>75%</th>\n",
       "      <td>37499.250000</td>\n",
       "      <td>4.500000</td>\n",
       "      <td>5.000000</td>\n",
       "      <td>893.000000</td>\n",
       "      <td>12.000000</td>\n",
       "    </tr>\n",
       "    <tr>\n",
       "      <th>max</th>\n",
       "      <td>49999.000000</td>\n",
       "      <td>5.000000</td>\n",
       "      <td>5.000000</td>\n",
       "      <td>4986.000000</td>\n",
       "      <td>87.000000</td>\n",
       "    </tr>\n",
       "  </tbody>\n",
       "</table>\n",
       "</div>"
      ],
      "text/plain": [
       "          review_id  restaurant_rating  customer_rating  review_text_length  \\\n",
       "count  50000.000000       50000.000000     50000.000000        50000.000000   \n",
       "mean   24999.500000           4.250000         4.319740          677.262140   \n",
       "std    14433.901067           0.287231         1.018669          596.437954   \n",
       "min        0.000000           4.000000         1.000000           17.000000   \n",
       "25%    12499.750000           4.000000         4.000000          262.000000   \n",
       "50%    24999.500000           4.000000         5.000000          507.000000   \n",
       "75%    37499.250000           4.500000         5.000000          893.000000   \n",
       "max    49999.000000           5.000000         5.000000         4986.000000   \n",
       "\n",
       "       sentence_count  \n",
       "count    50000.000000  \n",
       "mean         9.382440  \n",
       "std          7.460794  \n",
       "min          1.000000  \n",
       "25%          4.000000  \n",
       "50%          7.000000  \n",
       "75%         12.000000  \n",
       "max         87.000000  "
      ]
     },
     "execution_count": 54,
     "metadata": {},
     "output_type": "execute_result"
    }
   ],
   "source": [
    "df.describe()"
   ]
  },
  {
   "cell_type": "code",
   "execution_count": 55,
   "id": "e3ed43b6-77ec-4d65-aecc-3cf079e13f71",
   "metadata": {},
   "outputs": [],
   "source": [
    "def create_sentence_df(df):\n",
    "    \"\"\"Creates rows for each sentence for each review\"\"\"\n",
    "    \n",
    "    #Loops through every row\n",
    "    for index, row in df.iterrows():\n",
    "        \n",
    "        # Creates x duplicates where x is the sentence_count\n",
    "        dup_rows = pd.DataFrame(np.repeat([row.values],\n",
    "                                          [row['sentence_count']],\n",
    "                                          axis = 0),\n",
    "                                columns = df.columns)\n",
    "\n",
    "        # Populates the duplicates with the sentences from the curent row\n",
    "        for idx, sent in zip(dup_rows.index, (row['sentences'])):\n",
    "            dup_rows.iloc[idx]['sentence'] = sent\n",
    "\n",
    "        # Concatenates duplicates back to the original df\n",
    "        df = pd.concat([df, dup_rows])\n",
    "    \n",
    "    # resets the index since duplicates were added\n",
    "    df.reset_index(inplace = True, drop = True)\n",
    "    # Dropping all of original rows where sentence is blank\n",
    "    df.drop(df[df['sentence'] == \"\"].index, inplace = True)\n",
    "    return df"
   ]
  },
  {
   "cell_type": "code",
   "execution_count": 56,
   "id": "79f04548-f2a5-47c0-88c7-dd0304cc89a0",
   "metadata": {},
   "outputs": [],
   "source": [
    "# Using the index column to create review id's\n",
    "df['review_id'] = df.index\n",
    "# Creating empty sentence column\n",
    "df['sentence'] = \"\"\n",
    "df = create_sentence_df(df)"
   ]
  },
  {
   "cell_type": "code",
   "execution_count": 57,
   "id": "5d561beb-d793-4a3c-8f0e-4961bda7a707",
   "metadata": {},
   "outputs": [
    {
     "data": {
      "text/plain": [
       "(469122, 9)"
      ]
     },
     "execution_count": 57,
     "metadata": {},
     "output_type": "execute_result"
    }
   ],
   "source": [
    "df.shape"
   ]
  },
  {
   "cell_type": "markdown",
   "id": "aa24f415-ccff-4919-ada7-62655a04c27c",
   "metadata": {},
   "source": [
    "- 469122 sentences created from 50_000 reviews"
   ]
  },
  {
   "cell_type": "code",
   "execution_count": 58,
   "id": "0d78b6e9-d89e-4dae-b38d-80484a95c5f9",
   "metadata": {},
   "outputs": [],
   "source": [
    "df.to_csv(f'../data/San_Francisco_restaurant_reviews_sentences.csv')"
   ]
  },
  {
   "cell_type": "markdown",
   "id": "f82e7efd-74f5-48a8-bf92-f8ab1551a335",
   "metadata": {},
   "source": [
    "## Creating sentence Dataframe for the 5 restaurants with all their reviews"
   ]
  },
  {
   "cell_type": "code",
   "execution_count": 59,
   "id": "b65af3aa-6408-4f1f-bae4-5152f8e2f19b",
   "metadata": {},
   "outputs": [
    {
     "name": "stdout",
     "output_type": "stream",
     "text": [
      "389760\n"
     ]
    }
   ],
   "source": [
    "five_rest_df = pd.read_csv('../data/San_Francisco_restaurant_reviews_first_5.csv')\n",
    "\n",
    "# Dropping column\n",
    "five_rest_df.rename({'Unnamed: 0':'review_id'})\n",
    "\n",
    "# Removing html characters\n",
    "remove_html_characters(five_rest_df)\n",
    "\n",
    "# Creating sentences with spacey\n",
    "five_rest_df['sentences'] = five_rest_df['review_text'].apply(lambda x: create_sentences_from_review(x, nlp))\n",
    "\n",
    "# Creating sentence count for each review\n",
    "five_rest_df['sentence_count'] = five_rest_df['sentences'].apply(lambda x: len(x))\n",
    "print(five_rest_df['sentence_count'].sum())\n",
    "\n",
    "# Using the index column to create review id's\n",
    "five_rest_df['review_id'] = five_rest_df.index\n",
    "\n",
    "# Creating empty sentence column\n",
    "five_rest_df['sentence'] = \"\"\n",
    "\n",
    "# Creating rows for each individual sentence\n",
    "five_rest_df = create_sentence_df(five_rest_df)\n",
    "\n",
    "# Saving the \n",
    "five_rest_df.to_csv(f'../data/San_Francisco_restaurant_reviews_first_5_sentences.csv')"
   ]
  }
 ],
 "metadata": {
  "kernelspec": {
   "display_name": "Python 3 (ipykernel)",
   "language": "python",
   "name": "python3"
  },
  "language_info": {
   "codemirror_mode": {
    "name": "ipython",
    "version": 3
   },
   "file_extension": ".py",
   "mimetype": "text/x-python",
   "name": "python",
   "nbconvert_exporter": "python",
   "pygments_lexer": "ipython3",
   "version": "3.9.12"
  }
 },
 "nbformat": 4,
 "nbformat_minor": 5
}
