{
 "cells": [
  {
   "cell_type": "code",
   "execution_count": 1,
   "id": "b32decf6-e237-44b0-a148-393a0244ac00",
   "metadata": {},
   "outputs": [],
   "source": [
    "# Imports\n",
    "import numpy as np\n",
    "import pandas as pd\n",
    "import matplotlib.pyplot as plt\n",
    "import seaborn as sns\n",
    "import spacy\n",
    "\n",
    "from spacy import displacy\n",
    "from nltk.stem import WordNetLemmatizer\n"
   ]
  },
  {
   "cell_type": "code",
   "execution_count": 2,
   "id": "91260d8b-5cf4-4ce4-bd9b-cde076eade53",
   "metadata": {},
   "outputs": [],
   "source": [
    "df = pd.read_csv('../data/San_Francisco_50_restaurant_1000_reviews')"
   ]
  },
  {
   "cell_type": "code",
   "execution_count": 3,
   "id": "8603e01e-5aac-4883-bb9b-ae6215163462",
   "metadata": {},
   "outputs": [
    {
     "data": {
      "text/plain": [
       "(50000, 5)"
      ]
     },
     "execution_count": 3,
     "metadata": {},
     "output_type": "execute_result"
    }
   ],
   "source": [
    "df.shape"
   ]
  },
  {
   "cell_type": "code",
   "execution_count": 4,
   "id": "0d6b145d-d323-4dbe-9289-5c1d85648775",
   "metadata": {},
   "outputs": [
    {
     "data": {
      "text/html": [
       "<div>\n",
       "<style scoped>\n",
       "    .dataframe tbody tr th:only-of-type {\n",
       "        vertical-align: middle;\n",
       "    }\n",
       "\n",
       "    .dataframe tbody tr th {\n",
       "        vertical-align: top;\n",
       "    }\n",
       "\n",
       "    .dataframe thead th {\n",
       "        text-align: right;\n",
       "    }\n",
       "</style>\n",
       "<table border=\"1\" class=\"dataframe\">\n",
       "  <thead>\n",
       "    <tr style=\"text-align: right;\">\n",
       "      <th></th>\n",
       "      <th>Unnamed: 0</th>\n",
       "      <th>restaurant_name</th>\n",
       "      <th>restaurant_rating</th>\n",
       "      <th>customer_rating</th>\n",
       "      <th>review_text</th>\n",
       "    </tr>\n",
       "  </thead>\n",
       "  <tbody>\n",
       "    <tr>\n",
       "      <th>0</th>\n",
       "      <td>0</td>\n",
       "      <td>Brenda's French Soul Food</td>\n",
       "      <td>4.0</td>\n",
       "      <td>5</td>\n",
       "      <td>Absolutely amazing. I&amp;#39;ve dined here at lea...</td>\n",
       "    </tr>\n",
       "    <tr>\n",
       "      <th>1</th>\n",
       "      <td>1</td>\n",
       "      <td>Brenda's French Soul Food</td>\n",
       "      <td>4.0</td>\n",
       "      <td>5</td>\n",
       "      <td>So good we went twice in one week! After a rec...</td>\n",
       "    </tr>\n",
       "    <tr>\n",
       "      <th>2</th>\n",
       "      <td>2</td>\n",
       "      <td>Brenda's French Soul Food</td>\n",
       "      <td>4.0</td>\n",
       "      <td>2</td>\n",
       "      <td>Hadn&amp;#39;t been here in years because the neig...</td>\n",
       "    </tr>\n",
       "    <tr>\n",
       "      <th>3</th>\n",
       "      <td>3</td>\n",
       "      <td>Brenda's French Soul Food</td>\n",
       "      <td>4.0</td>\n",
       "      <td>3</td>\n",
       "      <td>I love the other Brenda&amp;#39;s in SF but this o...</td>\n",
       "    </tr>\n",
       "    <tr>\n",
       "      <th>4</th>\n",
       "      <td>4</td>\n",
       "      <td>Brenda's French Soul Food</td>\n",
       "      <td>4.0</td>\n",
       "      <td>5</td>\n",
       "      <td>Another repeat visit and no disappointment fro...</td>\n",
       "    </tr>\n",
       "  </tbody>\n",
       "</table>\n",
       "</div>"
      ],
      "text/plain": [
       "   Unnamed: 0            restaurant_name  restaurant_rating  customer_rating  \\\n",
       "0           0  Brenda's French Soul Food                4.0                5   \n",
       "1           1  Brenda's French Soul Food                4.0                5   \n",
       "2           2  Brenda's French Soul Food                4.0                2   \n",
       "3           3  Brenda's French Soul Food                4.0                3   \n",
       "4           4  Brenda's French Soul Food                4.0                5   \n",
       "\n",
       "                                         review_text  \n",
       "0  Absolutely amazing. I&#39;ve dined here at lea...  \n",
       "1  So good we went twice in one week! After a rec...  \n",
       "2  Hadn&#39;t been here in years because the neig...  \n",
       "3  I love the other Brenda&#39;s in SF but this o...  \n",
       "4  Another repeat visit and no disappointment fro...  "
      ]
     },
     "execution_count": 4,
     "metadata": {},
     "output_type": "execute_result"
    }
   ],
   "source": [
    "df.head()"
   ]
  },
  {
   "cell_type": "code",
   "execution_count": 5,
   "id": "b8d20735-8acb-41d7-b951-402b94e248cf",
   "metadata": {},
   "outputs": [],
   "source": [
    "# Rename column 'Unnamed: 0' to Review Id\n",
    "df.rename({'Unnamed: 0':'review_id'})"
   ]
  },
  {
   "cell_type": "code",
   "execution_count": 6,
   "id": "22e8223d-e78f-4aa4-96d4-7833e84aac99",
   "metadata": {},
   "outputs": [
    {
     "name": "stdout",
     "output_type": "stream",
     "text": [
      "Absolutely amazing. I&#39;ve dined here at least 6 times since moving to the Bay Area in February of 2022. Every experience has been great and those I recommended to eat here all let me know how good the food was as well.\n",
      "\n",
      "So good we went twice in one week! After a recommendation from the barista by our hotel we walked over to Brenda&#39;s for brunch on a Saturday. <br><br>There was a wait but it moved quickly. I got the Florentine Benedict and my friend got the Corn Succotash &amp; White Cheddar Omelette (not pictured). Everything was great - savory, a little spice, comforting!<br><br> Friendly and quick service. I ended up going back to try the dinner menu a few nights later - the shrimp and grits was everything I wanted. The beignets are a must try - SO big and fluffy and filled to perfection.\n",
      "\n",
      "Hadn&#39;t been here in years because the neighborhood has become increasingly rough and filthy and waiting for a table first thing in the morning under such circumstances isn&#39;t a good way to start the day.<br><br>But snagged a reservation and finally returned today.<br><br>Food. was good but service was decidedly uneven. Some servers were curt &amp; incompetent (gave us wrong orders, had no patience and hurried us up), others were attentive.  <br><br>Was very hesitant about leaving a tip.\n",
      "\n",
      "I love the other Brenda&#39;s in SF but this one did not live up to the hype. If i were to go back i&#39;d only get the crawfish beignets and the gravy + biscuits.<br><br>We got:<br>- Beignet flight (5/5): highly recommend the apple + crawfish ones if you order singles!<br>- pork belly grits (3/5): There&#39;s not enough acidity to cut down the fat of the pork belly so it&#39;s really hard to eat more than half<br>- gravy + biscuits (5/5): gravy was incredible and the biscuits were super flaky<br>- The coffee was so SO burnt :( There was a lot of grind sediment at the bottom of my cup which made it a really unpleasant morning experience.<br><br>Service: great! the staff were all very nice :) <br><br>Ambiance: during the brunch rush you definitely have to yell a bit to hear each other over the noise\n",
      "\n",
      "Another repeat visit and no disappointment from us. Great place for breakfast or brunch - and you won&#39;t need to eat again for awhile. The restaurant is close to the Tenderloin so be aware of your surroundings.<br><br>We enjoyed the Succotash Omelet (at least my wife enjoyed it), the Pulled Pork Benedict and the Hangtown Fry. Portions are large and pricing is fair. I wish we could have managed a Beignet Flight!<br><br>Definitely a spot to seek out. It can be crowed at times so be patient. Well worth any wait.\n",
      "\n"
     ]
    }
   ],
   "source": [
    "for row in df['review_text'][:5]:\n",
    "    print(f'{row}\\n')"
   ]
  },
  {
   "cell_type": "markdown",
   "id": "72bc4426-02da-4395-8ae6-e20a0e424c68",
   "metadata": {},
   "source": [
    "- Need to change the string of characters ' & #39; ' into a \" ' \"\n",
    "- Remove the break characters"
   ]
  },
  {
   "cell_type": "code",
   "execution_count": 7,
   "id": "b1138fac-93f8-44b7-95d4-faa3ff61fbf6",
   "metadata": {},
   "outputs": [],
   "source": [
    "#removing break characters and html character references\n",
    "df['review_text'] = df['review_text'].str.replace('&#39;', \"'\")\n",
    "df['review_text'] = df['review_text'].str.replace('<br>', '')\n",
    "df['review_text'] = df['review_text'].str.replace('&amp;', '&')"
   ]
  },
  {
   "cell_type": "code",
   "execution_count": 8,
   "id": "fa02b8d5-f8f6-42c2-94a9-2b203792282c",
   "metadata": {},
   "outputs": [
    {
     "name": "stdout",
     "output_type": "stream",
     "text": [
      "Absolutely amazing. I've dined here at least 6 times since moving to the Bay Area in February of 2022. Every experience has been great and those I recommended to eat here all let me know how good the food was as well.\n",
      "\n",
      "So good we went twice in one week! After a recommendation from the barista by our hotel we walked over to Brenda's for brunch on a Saturday. There was a wait but it moved quickly. I got the Florentine Benedict and my friend got the Corn Succotash & White Cheddar Omelette (not pictured). Everything was great - savory, a little spice, comforting! Friendly and quick service. I ended up going back to try the dinner menu a few nights later - the shrimp and grits was everything I wanted. The beignets are a must try - SO big and fluffy and filled to perfection.\n",
      "\n",
      "Hadn't been here in years because the neighborhood has become increasingly rough and filthy and waiting for a table first thing in the morning under such circumstances isn't a good way to start the day.But snagged a reservation and finally returned today.Food. was good but service was decidedly uneven. Some servers were curt & incompetent (gave us wrong orders, had no patience and hurried us up), others were attentive.  Was very hesitant about leaving a tip.\n",
      "\n",
      "I love the other Brenda's in SF but this one did not live up to the hype. If i were to go back i'd only get the crawfish beignets and the gravy + biscuits.We got:- Beignet flight (5/5): highly recommend the apple + crawfish ones if you order singles!- pork belly grits (3/5): There's not enough acidity to cut down the fat of the pork belly so it's really hard to eat more than half- gravy + biscuits (5/5): gravy was incredible and the biscuits were super flaky- The coffee was so SO burnt :( There was a lot of grind sediment at the bottom of my cup which made it a really unpleasant morning experience.Service: great! the staff were all very nice :) Ambiance: during the brunch rush you definitely have to yell a bit to hear each other over the noise\n",
      "\n",
      "Another repeat visit and no disappointment from us. Great place for breakfast or brunch - and you won't need to eat again for awhile. The restaurant is close to the Tenderloin so be aware of your surroundings.We enjoyed the Succotash Omelet (at least my wife enjoyed it), the Pulled Pork Benedict and the Hangtown Fry. Portions are large and pricing is fair. I wish we could have managed a Beignet Flight!Definitely a spot to seek out. It can be crowed at times so be patient. Well worth any wait.\n",
      "\n"
     ]
    }
   ],
   "source": [
    "for row in df['review_text'][:5]:\n",
    "    print(f'{row}\\n')"
   ]
  },
  {
   "cell_type": "code",
   "execution_count": 9,
   "id": "3461f62c-af31-4e73-9c78-62aeb9c9828b",
   "metadata": {},
   "outputs": [],
   "source": [
    "#Creating column for the character length of the review\n",
    "df['review_text_length'] = df['review_text'].apply(lambda x: len(x))"
   ]
  },
  {
   "cell_type": "code",
   "execution_count": 10,
   "id": "988ddfe0-a5a3-48a3-bc3d-3fdea39f242f",
   "metadata": {},
   "outputs": [
    {
     "data": {
      "text/html": [
       "<div>\n",
       "<style scoped>\n",
       "    .dataframe tbody tr th:only-of-type {\n",
       "        vertical-align: middle;\n",
       "    }\n",
       "\n",
       "    .dataframe tbody tr th {\n",
       "        vertical-align: top;\n",
       "    }\n",
       "\n",
       "    .dataframe thead th {\n",
       "        text-align: right;\n",
       "    }\n",
       "</style>\n",
       "<table border=\"1\" class=\"dataframe\">\n",
       "  <thead>\n",
       "    <tr style=\"text-align: right;\">\n",
       "      <th></th>\n",
       "      <th>restaurant_name</th>\n",
       "      <th>restaurant_rating</th>\n",
       "      <th>customer_rating</th>\n",
       "      <th>review_text</th>\n",
       "      <th>review_text_length</th>\n",
       "    </tr>\n",
       "  </thead>\n",
       "  <tbody>\n",
       "    <tr>\n",
       "      <th>0</th>\n",
       "      <td>Brenda's French Soul Food</td>\n",
       "      <td>4.0</td>\n",
       "      <td>5</td>\n",
       "      <td>Absolutely amazing. I've dined here at least 6...</td>\n",
       "      <td>217</td>\n",
       "    </tr>\n",
       "    <tr>\n",
       "      <th>1</th>\n",
       "      <td>Brenda's French Soul Food</td>\n",
       "      <td>4.0</td>\n",
       "      <td>5</td>\n",
       "      <td>So good we went twice in one week! After a rec...</td>\n",
       "      <td>560</td>\n",
       "    </tr>\n",
       "    <tr>\n",
       "      <th>2</th>\n",
       "      <td>Brenda's French Soul Food</td>\n",
       "      <td>4.0</td>\n",
       "      <td>2</td>\n",
       "      <td>Hadn't been here in years because the neighbor...</td>\n",
       "      <td>462</td>\n",
       "    </tr>\n",
       "    <tr>\n",
       "      <th>3</th>\n",
       "      <td>Brenda's French Soul Food</td>\n",
       "      <td>4.0</td>\n",
       "      <td>3</td>\n",
       "      <td>I love the other Brenda's in SF but this one d...</td>\n",
       "      <td>753</td>\n",
       "    </tr>\n",
       "    <tr>\n",
       "      <th>4</th>\n",
       "      <td>Brenda's French Soul Food</td>\n",
       "      <td>4.0</td>\n",
       "      <td>5</td>\n",
       "      <td>Another repeat visit and no disappointment fro...</td>\n",
       "      <td>497</td>\n",
       "    </tr>\n",
       "  </tbody>\n",
       "</table>\n",
       "</div>"
      ],
      "text/plain": [
       "             restaurant_name  restaurant_rating  customer_rating  \\\n",
       "0  Brenda's French Soul Food                4.0                5   \n",
       "1  Brenda's French Soul Food                4.0                5   \n",
       "2  Brenda's French Soul Food                4.0                2   \n",
       "3  Brenda's French Soul Food                4.0                3   \n",
       "4  Brenda's French Soul Food                4.0                5   \n",
       "\n",
       "                                         review_text  review_text_length  \n",
       "0  Absolutely amazing. I've dined here at least 6...                 217  \n",
       "1  So good we went twice in one week! After a rec...                 560  \n",
       "2  Hadn't been here in years because the neighbor...                 462  \n",
       "3  I love the other Brenda's in SF but this one d...                 753  \n",
       "4  Another repeat visit and no disappointment fro...                 497  "
      ]
     },
     "execution_count": 10,
     "metadata": {},
     "output_type": "execute_result"
    }
   ],
   "source": [
    "df.head()"
   ]
  },
  {
   "cell_type": "code",
   "execution_count": 12,
   "id": "0a5a8a25-1513-4146-b0d3-6a78b88c34f1",
   "metadata": {},
   "outputs": [
    {
     "data": {
      "text/html": [
       "<div>\n",
       "<style scoped>\n",
       "    .dataframe tbody tr th:only-of-type {\n",
       "        vertical-align: middle;\n",
       "    }\n",
       "\n",
       "    .dataframe tbody tr th {\n",
       "        vertical-align: top;\n",
       "    }\n",
       "\n",
       "    .dataframe thead th {\n",
       "        text-align: right;\n",
       "    }\n",
       "</style>\n",
       "<table border=\"1\" class=\"dataframe\">\n",
       "  <thead>\n",
       "    <tr style=\"text-align: right;\">\n",
       "      <th></th>\n",
       "      <th>restaurant_rating</th>\n",
       "      <th>customer_rating</th>\n",
       "      <th>review_text_length</th>\n",
       "    </tr>\n",
       "  </thead>\n",
       "  <tbody>\n",
       "    <tr>\n",
       "      <th>count</th>\n",
       "      <td>50000.000000</td>\n",
       "      <td>50000.000000</td>\n",
       "      <td>50000.000000</td>\n",
       "    </tr>\n",
       "    <tr>\n",
       "      <th>mean</th>\n",
       "      <td>4.250000</td>\n",
       "      <td>4.319740</td>\n",
       "      <td>683.220920</td>\n",
       "    </tr>\n",
       "    <tr>\n",
       "      <th>std</th>\n",
       "      <td>0.287231</td>\n",
       "      <td>1.018669</td>\n",
       "      <td>609.410535</td>\n",
       "    </tr>\n",
       "    <tr>\n",
       "      <th>min</th>\n",
       "      <td>4.000000</td>\n",
       "      <td>1.000000</td>\n",
       "      <td>17.000000</td>\n",
       "    </tr>\n",
       "    <tr>\n",
       "      <th>25%</th>\n",
       "      <td>4.000000</td>\n",
       "      <td>4.000000</td>\n",
       "      <td>263.000000</td>\n",
       "    </tr>\n",
       "    <tr>\n",
       "      <th>50%</th>\n",
       "      <td>4.000000</td>\n",
       "      <td>5.000000</td>\n",
       "      <td>508.000000</td>\n",
       "    </tr>\n",
       "    <tr>\n",
       "      <th>75%</th>\n",
       "      <td>4.500000</td>\n",
       "      <td>5.000000</td>\n",
       "      <td>898.000000</td>\n",
       "    </tr>\n",
       "    <tr>\n",
       "      <th>max</th>\n",
       "      <td>5.000000</td>\n",
       "      <td>5.000000</td>\n",
       "      <td>7778.000000</td>\n",
       "    </tr>\n",
       "  </tbody>\n",
       "</table>\n",
       "</div>"
      ],
      "text/plain": [
       "       restaurant_rating  customer_rating  review_text_length\n",
       "count       50000.000000     50000.000000        50000.000000\n",
       "mean            4.250000         4.319740          683.220920\n",
       "std             0.287231         1.018669          609.410535\n",
       "min             4.000000         1.000000           17.000000\n",
       "25%             4.000000         4.000000          263.000000\n",
       "50%             4.000000         5.000000          508.000000\n",
       "75%             4.500000         5.000000          898.000000\n",
       "max             5.000000         5.000000         7778.000000"
      ]
     },
     "execution_count": 12,
     "metadata": {},
     "output_type": "execute_result"
    }
   ],
   "source": [
    "df.describe()"
   ]
  },
  {
   "cell_type": "markdown",
   "id": "132c9b2d-a276-4e49-8564-8e1e0e50b828",
   "metadata": {},
   "source": [
    "## Create sentences from each of the reviews"
   ]
  },
  {
   "cell_type": "code",
   "execution_count": 30,
   "id": "c5da3f82-fc6e-4022-858d-de52277a523b",
   "metadata": {},
   "outputs": [],
   "source": [
    "nlp = spacy.load('en_core_web_md')"
   ]
  },
  {
   "cell_type": "code",
   "execution_count": 151,
   "id": "af99760f-48b0-4d4e-b769-aaf4d0df9b63",
   "metadata": {},
   "outputs": [],
   "source": [
    "#Creating a list of sentences from the review using spacey\n",
    "\n",
    "def create_sentences_from_review(review, nlp):\n",
    "\n",
    "    spacey_doc = nlp(review)\n",
    "    \n",
    "    return [str(sent) for sent in spacey_doc.sents]"
   ]
  },
  {
   "cell_type": "code",
   "execution_count": 66,
   "id": "0410e25f-8cd8-4f19-8983-9fcf6a48cb2d",
   "metadata": {
    "tags": []
   },
   "outputs": [],
   "source": [
    "# Creating new column sentences (list of sentences)\n",
    "\n",
    "df['sentences'] = df['review_text'].apply(lambda x: create_sentences_from_review(x, nlp))"
   ]
  },
  {
   "cell_type": "code",
   "execution_count": 47,
   "id": "27ecdb0d-045c-417d-ba51-f97ccc68af97",
   "metadata": {
    "tags": []
   },
   "outputs": [
    {
     "data": {
      "text/html": [
       "<div>\n",
       "<style scoped>\n",
       "    .dataframe tbody tr th:only-of-type {\n",
       "        vertical-align: middle;\n",
       "    }\n",
       "\n",
       "    .dataframe tbody tr th {\n",
       "        vertical-align: top;\n",
       "    }\n",
       "\n",
       "    .dataframe thead th {\n",
       "        text-align: right;\n",
       "    }\n",
       "</style>\n",
       "<table border=\"1\" class=\"dataframe\">\n",
       "  <thead>\n",
       "    <tr style=\"text-align: right;\">\n",
       "      <th></th>\n",
       "      <th>restaurant_name</th>\n",
       "      <th>restaurant_rating</th>\n",
       "      <th>customer_rating</th>\n",
       "      <th>review_text</th>\n",
       "      <th>review_text_length</th>\n",
       "      <th>sentences</th>\n",
       "    </tr>\n",
       "  </thead>\n",
       "  <tbody>\n",
       "    <tr>\n",
       "      <th>0</th>\n",
       "      <td>Brenda's French Soul Food</td>\n",
       "      <td>4.0</td>\n",
       "      <td>5</td>\n",
       "      <td>Absolutely amazing. I've dined here at least 6...</td>\n",
       "      <td>217</td>\n",
       "      <td>[(Absolutely, amazing, .), (I, 've, dined, her...</td>\n",
       "    </tr>\n",
       "    <tr>\n",
       "      <th>1</th>\n",
       "      <td>Brenda's French Soul Food</td>\n",
       "      <td>4.0</td>\n",
       "      <td>5</td>\n",
       "      <td>So good we went twice in one week! After a rec...</td>\n",
       "      <td>560</td>\n",
       "      <td>[(So, good, we, went, twice, in, one, week, !)...</td>\n",
       "    </tr>\n",
       "    <tr>\n",
       "      <th>2</th>\n",
       "      <td>Brenda's French Soul Food</td>\n",
       "      <td>4.0</td>\n",
       "      <td>2</td>\n",
       "      <td>Hadn't been here in years because the neighbor...</td>\n",
       "      <td>462</td>\n",
       "      <td>[(Had, n't, been, here, in, years, because, th...</td>\n",
       "    </tr>\n",
       "    <tr>\n",
       "      <th>3</th>\n",
       "      <td>Brenda's French Soul Food</td>\n",
       "      <td>4.0</td>\n",
       "      <td>3</td>\n",
       "      <td>I love the other Brenda's in SF but this one d...</td>\n",
       "      <td>753</td>\n",
       "      <td>[(I, love, the, other, Brenda, 's, in, SF, but...</td>\n",
       "    </tr>\n",
       "    <tr>\n",
       "      <th>4</th>\n",
       "      <td>Brenda's French Soul Food</td>\n",
       "      <td>4.0</td>\n",
       "      <td>5</td>\n",
       "      <td>Another repeat visit and no disappointment fro...</td>\n",
       "      <td>497</td>\n",
       "      <td>[(Another, repeat, visit, and, no, disappointm...</td>\n",
       "    </tr>\n",
       "  </tbody>\n",
       "</table>\n",
       "</div>"
      ],
      "text/plain": [
       "             restaurant_name  restaurant_rating  customer_rating  \\\n",
       "0  Brenda's French Soul Food                4.0                5   \n",
       "1  Brenda's French Soul Food                4.0                5   \n",
       "2  Brenda's French Soul Food                4.0                2   \n",
       "3  Brenda's French Soul Food                4.0                3   \n",
       "4  Brenda's French Soul Food                4.0                5   \n",
       "\n",
       "                                         review_text  review_text_length  \\\n",
       "0  Absolutely amazing. I've dined here at least 6...                 217   \n",
       "1  So good we went twice in one week! After a rec...                 560   \n",
       "2  Hadn't been here in years because the neighbor...                 462   \n",
       "3  I love the other Brenda's in SF but this one d...                 753   \n",
       "4  Another repeat visit and no disappointment fro...                 497   \n",
       "\n",
       "                                           sentences  \n",
       "0  [(Absolutely, amazing, .), (I, 've, dined, her...  \n",
       "1  [(So, good, we, went, twice, in, one, week, !)...  \n",
       "2  [(Had, n't, been, here, in, years, because, th...  \n",
       "3  [(I, love, the, other, Brenda, 's, in, SF, but...  \n",
       "4  [(Another, repeat, visit, and, no, disappointm...  "
      ]
     },
     "execution_count": 47,
     "metadata": {},
     "output_type": "execute_result"
    }
   ],
   "source": [
    "df.head()"
   ]
  },
  {
   "cell_type": "code",
   "execution_count": 48,
   "id": "63a7b212-bb32-45dc-90e6-b6bb3f6976e7",
   "metadata": {},
   "outputs": [],
   "source": [
    "# Creating column sentence count\n",
    "\n",
    "df['sentence_count'] = df['sentences'].apply(lambda x: len(x))\n",
    "\n",
    "# Looking at total amount of sentences\n",
    "\n",
    "df['sentence_count'].sum()"
   ]
  },
  {
   "cell_type": "code",
   "execution_count": 152,
   "id": "e3ed43b6-77ec-4d65-aecc-3cf079e13f71",
   "metadata": {},
   "outputs": [],
   "source": [
    "def create_sentence_df(df):\n",
    "    \"\"\"Creates rows for each sentence for each review\"\"\"\n",
    "    \n",
    "    #Loops through every row\n",
    "    for index, row in df.iterrows():\n",
    "        \n",
    "        # Creates x duplicates where x is the sentence_count\n",
    "        dup_rows = pd.DataFrame(np.repeat([row.values],\n",
    "                                          [row['sentence_count']],\n",
    "                                          axis = 0),\n",
    "                                columns = df.columns)\n",
    "\n",
    "        # Populates the duplicates with the sentences from the curent row\n",
    "        for idx, sent in zip(dup_rows.index, (row['sentences'])):\n",
    "            dup_rows.iloc[idx]['sentence'] = sent\n",
    "\n",
    "        # Concatenates duplicates back to the original df\n",
    "        df = pd.concat([df, dup_rows])\n",
    "    \n",
    "    # resets the index since duplicates were added\n",
    "    df.reset_index(inplace = True, drop = True)\n",
    "    # Dropping all of original rows where sentence is blank\n",
    "    df.drop(df[df['sentence'] == \"\"].index, inplace = True)\n",
    "    return df"
   ]
  },
  {
   "cell_type": "code",
   "execution_count": 150,
   "id": "79f04548-f2a5-47c0-88c7-dd0304cc89a0",
   "metadata": {},
   "outputs": [],
   "source": [
    "# Using the index column to create review id's\n",
    "df['review_id'] = df.index\n",
    "# Creating empty sentence column\n",
    "df['sentence'] = \"\"\n",
    "df = create_sentence_df(df)"
   ]
  },
  {
   "cell_type": "code",
   "execution_count": 155,
   "id": "5d561beb-d793-4a3c-8f0e-4961bda7a707",
   "metadata": {},
   "outputs": [
    {
     "data": {
      "text/plain": [
       "(468444, 9)"
      ]
     },
     "execution_count": 155,
     "metadata": {},
     "output_type": "execute_result"
    }
   ],
   "source": [
    "df.shape"
   ]
  },
  {
   "cell_type": "code",
   "execution_count": 156,
   "id": "0d78b6e9-d89e-4dae-b38d-80484a95c5f9",
   "metadata": {},
   "outputs": [],
   "source": [
    "df.to_csv(f'../data/San_Francisco_restaurant_reviews_sentences.csv')"
   ]
  }
 ],
 "metadata": {
  "kernelspec": {
   "display_name": "Python 3 (ipykernel)",
   "language": "python",
   "name": "python3"
  },
  "language_info": {
   "codemirror_mode": {
    "name": "ipython",
    "version": 3
   },
   "file_extension": ".py",
   "mimetype": "text/x-python",
   "name": "python",
   "nbconvert_exporter": "python",
   "pygments_lexer": "ipython3",
   "version": "3.9.12"
  }
 },
 "nbformat": 4,
 "nbformat_minor": 5
}
