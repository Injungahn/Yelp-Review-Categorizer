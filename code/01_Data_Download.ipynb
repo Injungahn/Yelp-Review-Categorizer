{
 "cells": [
  {
   "cell_type": "code",
   "execution_count": 70,
   "id": "0ed9cdbb-115f-4b43-ac5e-355891b85e2a",
   "metadata": {},
   "outputs": [],
   "source": [
    "#Imports\n",
    "\n",
    "import numpy as np\n",
    "import pandas as pd\n",
    "import matplotlib.pyplot as plt\n",
    "\n",
    "import math\n",
    "import requests\n",
    "import time"
   ]
  },
  {
   "cell_type": "code",
   "execution_count": 71,
   "id": "0b634ecf-f628-4bd2-be97-cbbca32d6f05",
   "metadata": {},
   "outputs": [],
   "source": [
    "#Retrieving API Key\n",
    "\n",
    "api_key_file = open('../assets/api-key.txt')\n",
    "api_key = api_key_file.read().strip()\n",
    "api_key_file.close()"
   ]
  },
  {
   "cell_type": "code",
   "execution_count": 72,
   "id": "77497465-45f9-41df-9c4c-3fbda994a17e",
   "metadata": {},
   "outputs": [],
   "source": [
    "def get_restaurants_at_city(city, amount = 50):\n",
    "    \"\"\"Gets a list of restaurant as dictionaries from a city through the yelp fusion api\n",
    "    Returns an empty list if nothing found\"\"\"\n",
    "    restaurant_list = []\n",
    "    url = \"https://api.yelp.com/v3/businesses/search\"\n",
    "\n",
    "    params = {\n",
    "        'categories' : 'restaurants',\n",
    "        'location' : city,\n",
    "        'limit' : amount\n",
    "    }\n",
    "    \n",
    "    headers = {\n",
    "        'Authorization': 'Bearer ' + api_key\n",
    "    }\n",
    "    \n",
    "    #Makes request from yelp api\n",
    "    req = requests.get(url, params, headers=headers)\n",
    "    \n",
    "    if req.status_code == 200:\n",
    "        restaurants = req.json()\n",
    "        restaurants = restaurants['businesses']\n",
    "        #Adds each restaurant as a dictionary to list\n",
    "        for restaurant in restaurants:\n",
    "            if restaurant['is_closed'] == False:\n",
    "                \n",
    "                restaurant_list.append({'name':restaurant['name'], \n",
    "                                        'review_count':restaurant['review_count'],\n",
    "                                        'id':restaurant['id'],\n",
    "                                        'rating':restaurant['rating']})\n",
    "            \n",
    "    else:\n",
    "        print(\"None found\")\n",
    "        print(req.status_code)\n",
    "\n",
    "    return restaurant_list\n",
    "        "
   ]
  },
  {
   "cell_type": "code",
   "execution_count": 83,
   "id": "8869178a-9916-41dc-9088-a72068655823",
   "metadata": {},
   "outputs": [],
   "source": [
    "def get_reviews_from_restaurant(restaurant):\n",
    "    \"\"\"Uses the restaurants URL to grab all the reviews from a restaurant\n",
    "    \"\"\"\n",
    "    review_list = []\n",
    "    \n",
    "    params = {\n",
    "        'start' :'0'  #going to update\n",
    "    }\n",
    "   \n",
    "    #Loop to make requests to consecutive pages for reviews\n",
    "    for i in range(math.ceil(restaurant['review_count'] / 10)):\n",
    "        url = f\"https://www.yelp.com/biz/{restaurant['id']}/review_feed?rl=en&q=&sort_by=relevance_desc\"\n",
    "        req = requests.get(url, params)\n",
    "        \n",
    "        if req.status_code == 200:\n",
    "        \n",
    "            reviews = req.json()\n",
    "\n",
    "            #Find the list of all the reviews\n",
    "            reviews = reviews['reviews']\n",
    "\n",
    "            for review in reviews:\n",
    "                #going to want: restaurant name, customer review, restaurant review, body of text of the review\n",
    "\n",
    "                review_list.append([restaurant['name'],\n",
    "                                    restaurant['rating'],\n",
    "                                    review['rating'],\n",
    "                                    review['comment']['text']\n",
    "                                   ])\n",
    "\n",
    "            params['start'] = str(int(params['start']) + 10)\n",
    "                                \n",
    "        else:\n",
    "            print(req.status_code)\n",
    "\n",
    "    print(f\"Restaurant: {restaurant['name']}\\nNumber of Reviews: {restaurant['review_count']}\\nReviews found: {len(review_list)}\")\n",
    "\n",
    "    return review_list\n",
    "        "
   ]
  },
  {
   "cell_type": "code",
   "execution_count": 84,
   "id": "ba7f574a-e497-4e40-85a1-09a5d8ecddd3",
   "metadata": {},
   "outputs": [],
   "source": [
    "def get_reviews_from_restaurants(restaurants, city):\n",
    "    \"\"\"Takes a lists of restaurants and returns a dataframe\n",
    "    of their reviews\"\"\"\n",
    "    reviews_list = []\n",
    "    \n",
    "    for restaurant in restaurants:\n",
    "        print(f\"Getting {restaurant['review_count']} reviews for restaurant: {restaurant['name']}\")\n",
    "        start = time.perf_counter()\n",
    "        reviews = get_reviews_from_restaurant(restaurant)\n",
    "        reviews_list.extend(reviews)\n",
    "        end = time.perf_counter()\n",
    "        print(f'Took {(start - end) / 60} minutes')\n",
    "        \n",
    "    df = pd.DataFrame(reviews_list, columns = ['restaurant_name', 'restaurant_rating', 'customer_rating', 'review_text'])\n",
    "    df.drop_duplicates()\n",
    "    df.to_csv(f'../data/{city}_restaurant_reviews')\n",
    "    return df"
   ]
  },
  {
   "cell_type": "code",
   "execution_count": 85,
   "id": "4c5519f9-87e4-4d02-8202-45063c0d884f",
   "metadata": {},
   "outputs": [],
   "source": [
    "restaurants = get_restaurants_at_city('San Francisco')"
   ]
  },
  {
   "cell_type": "code",
   "execution_count": 87,
   "id": "78534051-0df9-4c17-b63f-0ea33541ec40",
   "metadata": {},
   "outputs": [
    {
     "name": "stdout",
     "output_type": "stream",
     "text": [
      "Getting 11771 reviews for restaurant: Brenda's French Soul Food\n",
      "Restaurant: Brenda's French Soul Food\n",
      "Number of Reviews: 11771\n",
      "Reviews found: 11756\n",
      "Took -7.014973561666648 minutes\n",
      "Getting 5764 reviews for restaurant: Gary Danko\n",
      "Restaurant: Gary Danko\n",
      "Number of Reviews: 5764\n",
      "Reviews found: 5763\n",
      "Took -3.3693323950000074 minutes\n",
      "Getting 8573 reviews for restaurant: Tartine Bakery\n",
      "Restaurant: Tartine Bakery\n",
      "Number of Reviews: 8573\n",
      "Reviews found: 8553\n",
      "Took -4.543903938333339 minutes\n",
      "Getting 6708 reviews for restaurant: Hog Island Oyster\n",
      "Restaurant: Hog Island Oyster\n",
      "Number of Reviews: 6708\n",
      "Reviews found: 6675\n",
      "Took -3.874344731666679 minutes\n",
      "Getting 8194 reviews for restaurant: House of Prime Rib\n",
      "Restaurant: House of Prime Rib\n",
      "Number of Reviews: 8194\n",
      "Reviews found: 8183\n",
      "Took -4.635882406666679 minutes\n"
     ]
    }
   ],
   "source": [
    "df = get_reviews_from_restaurants(restaurants[0:5], 'San Francisco')"
   ]
  },
  {
   "cell_type": "code",
   "execution_count": null,
   "id": "6c4a90e2-1593-4615-bfc8-9a5d2957f328",
   "metadata": {},
   "outputs": [],
   "source": []
  }
 ],
 "metadata": {
  "kernelspec": {
   "display_name": "Python 3 (ipykernel)",
   "language": "python",
   "name": "python3"
  },
  "language_info": {
   "codemirror_mode": {
    "name": "ipython",
    "version": 3
   },
   "file_extension": ".py",
   "mimetype": "text/x-python",
   "name": "python",
   "nbconvert_exporter": "python",
   "pygments_lexer": "ipython3",
   "version": "3.9.12"
  }
 },
 "nbformat": 4,
 "nbformat_minor": 5
}
